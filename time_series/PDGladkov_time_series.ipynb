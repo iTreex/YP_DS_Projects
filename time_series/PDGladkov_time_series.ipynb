{
 "cells": [
  {
   "cell_type": "markdown",
   "id": "8be1db31",
   "metadata": {},
   "source": [
    "<img src=\"http://s3.amazonaws.com/pix.iemoji.com/images/emoji/apple/ios-12/256/waving-hand.png\" align=left width=44, heigth=44>\n",
    "<div class=\"alert alert-info\">\n",
    "<b> Комментарий ревьюера</b>\n",
    "\n",
    "\n",
    "Привет, Павел! Давай знакомиться! Меня зовут Дмитрий Махортов, и я буду проверять твой проект. Сразу предлагаю общение на «ты» 🙂, но если тебе это не комфортно, то дай знать, и мы перейдем на «вы». \n",
    "\n",
    "Моя основная цель — не указать на совершенные тобою ошибки, а поделиться своим опытом и помочь тебе погрузиться в увлекательный мир работы с данными и вырасти в крепкого профи. Это отдаленная цель. А ближайшая - сделать твою работу еще лучше )).\n",
    "   \n",
    "    \n",
    "Все ключевые этапы в работе выполнены, и я вижу что с проектом ты справшяешься. Есть моменты, которые нужно доработать, но я уверен, у тебя все получится.\n",
    "        \n",
    "Расскажу как обычно проходит проверка:    \n",
    "Бывают моменты, которые требуют пристального внимания. Комментарии по ним выделены <span style='background-color:#F7B3A4'> красным цветом </span> и обозначены значком 🛑. После их доработки проект будет принят.  🙂\n",
    " \n",
    "<span style='background-color:#B7EBA7'> Зеленым цветом </span> и значком ✅ отмечены удачные и элегантные решения, на которые можно опираться в будущих проектах. Или советы «со звездочкой», которые помогут тебе в будущем.\n",
    "\n",
    "<span style='background-color:#F9EDA6'>Жёлтым цветом </span> и значком ⚠️ выделено то, что в следующий раз можно сделать по-другому. Ты можешь учесть эти комментарии при выполнении будущих заданий или доработать проект сейчас (однако это не обязательно).\n",
    "\n",
    "Давай работать над проектом в диалоге: **если ты что-то меняешь в проекте по моим рекомендациям — пиши об этом**. Выбери для своих комментариев какой-то заметный цвет, так мне будет легче отследить изменения. Пожалуйста, **не перемещай, не изменяй и не удаляй мои комментарии**. Всё это поможет выполнить повторную проверку твоего проекта оперативнее. \n",
    "</div>\n"
   ]
  },
  {
   "cell_type": "markdown",
   "id": "ae94e7e1",
   "metadata": {},
   "source": [
    "<div class=\"alert\" style=\"background-color:#ead7f7;color:#8737bf\">\n",
    "    <font size=\"3\"><b>образец комментария студента</b></font>\n",
    "   \n",
    "Можешь использовать этот комментарий. Просто удали этот текст и вместо него напиши свой 🙂\n",
    "\n",
    "</div>"
   ]
  },
  {
   "cell_type": "markdown",
   "id": "b4b05c5d",
   "metadata": {},
   "source": [
    "<div class=\"alert alert-info\"  >\n",
    "    \n",
    "<h2>Комментарий студента_rev_1: <a class=\"tocSkip\"> </h2>\n",
    "Привет Дмитрий. Если можно пиши в блоках \"Комментарий ревьюера\", просто так удобнее через поиск находить замечания))"
   ]
  },
  {
   "cell_type": "markdown",
   "id": "b29f1c96",
   "metadata": {},
   "source": [
    "<img src=\"http://s3.amazonaws.com/pix.iemoji.com/images/emoji/apple/ios-12/256/waving-hand.png\" align=left width=44, heigth=44>\n",
    "<div class=\"alert alert-info\">\n",
    "<b> Комментарий ревьюера v2</b>\n",
    "\n",
    "Привет!\n",
    "\n",
    "Давай я ограничусь `v2`, как в комментарии ниже. Это тоже поможет тебе в поисках.\n",
    "</div>"
   ]
  },
  {
   "cell_type": "markdown",
   "id": "913f431e",
   "metadata": {},
   "source": [
    "<img src=\"https://emojigraph.org/media/apple/check-mark-button_2705.png\" align=left width=33, heigth=33>\n",
    "<div class=\"alert alert-success\">\n",
    "    <b>v2</b> 👍 </div>"
   ]
  },
  {
   "cell_type": "markdown",
   "id": "930ec54c",
   "metadata": {},
   "source": [
    "# Прогнозирование заказов такси\n",
    "Компания «Чётенькое такси» собрала исторические данные о заказах такси в аэропортах. Чтобы привлекать больше водителей в период пиковой нагрузки, нужно спрогнозировать количество заказов такси на следующий час. Постройте модель для такого предсказания.\n",
    "\n",
    "Значение метрики RMSE на тестовой выборке должно быть не больше 48.\n",
    "\n",
    "Вам нужно:\n",
    "\n",
    "Загрузить данные и выполнить их ресемплирование по одному часу.\n",
    "Проанализировать данные.\n",
    "Обучить разные модели с различными гиперпараметрами. Сделать тестовую выборку размером 10% от исходных данных.\n",
    "Проверить данные на тестовой выборке и сделать выводы.\n",
    "Инструкция по выполнению проекта\n",
    "\n",
    "Загрузите данные и выполните их ресемплирование по одному часу.\n",
    "Проанализируйте данные.\n",
    "Обучите разные модели с различными гиперпараметрами. Сделайте тестовую выборку размером 10% от исходных данных.\n",
    "Проверьте данные на тестовой выборке и сделайте выводы."
   ]
  },
  {
   "cell_type": "markdown",
   "id": "71b93a35",
   "metadata": {},
   "source": [
    "##  Описание данных\n",
    "Количество заказов находится в столбце 'num_orders' (от англ. number of orders, «число заказов»)."
   ]
  },
  {
   "cell_type": "markdown",
   "id": "e07833cc",
   "metadata": {},
   "source": [
    "##  Загрузка библиотек"
   ]
  },
  {
   "cell_type": "code",
   "execution_count": 1,
   "id": "fd6cd0ec",
   "metadata": {},
   "outputs": [],
   "source": [
    "!pip install lightgbm -q\n",
    "! pip install --upgrade scikit-learn -q"
   ]
  },
  {
   "cell_type": "code",
   "execution_count": 2,
   "id": "82d5f3fd",
   "metadata": {},
   "outputs": [],
   "source": [
    "import pandas as pd\n",
    "import seaborn as sns\n",
    "from matplotlib import pyplot as plt\n",
    "#Стиль графиков\n",
    "sns.set_theme(style = 'whitegrid')\n",
    "#Установка размера графика по умолчанию\n",
    "from pylab import rcParams\n",
    "rcParams['figure.figsize'] = 15,7\n",
    "\n",
    "from statsmodels.tsa.seasonal import seasonal_decompose\n",
    "from sklearn.model_selection import (train_test_split,\n",
    "                                     GridSearchCV,\n",
    "                                     TimeSeriesSplit)\n",
    "from sklearn.metrics import mean_squared_error as mse, root_mean_squared_error\n",
    "\n",
    "from sklearn.preprocessing import StandardScaler\n",
    "\n",
    "from sklearn.pipeline import Pipeline\n",
    "\n",
    "from sklearn.linear_model import LinearRegression\n",
    "from sklearn.tree import DecisionTreeRegressor,  DecisionTreeClassifier\n",
    "from sklearn.ensemble import RandomForestRegressor\n",
    "\n",
    "from lightgbm import LGBMRegressor\n",
    "\n",
    "# import warnings\n",
    "# warnings.filterwarnings('ignore')\n",
    "\n",
    "from time import time\n",
    "\n",
    "# создание констант для моделей\n",
    "import random\n",
    "RANDOM_STATE = 20240628\n",
    "\n",
    "TEST_SIZE = 0.1\n",
    "random.seed(RANDOM_STATE)\n",
    "\n",
    "# Установка опции для отображения максимальной ширины столбца\n",
    "pd.set_option('display.max_colwidth', None)"
   ]
  },
  {
   "cell_type": "markdown",
   "id": "0d3f6710",
   "metadata": {},
   "source": [
    "<img src=\"https://emojigraph.org/media/apple/check-mark-button_2705.png\" align=left width=33, heigth=33>\n",
    "<div class=\"alert alert-success\">\n",
    "Отлично, все нужные библиотеки импортированы в начале ноутбука.Это хорошая практика.\n",
    "\n",
    "Установка констант в начале работы это тоже ОК, но я бы зрительно разделилл их с импортами.\n",
    "</div>"
   ]
  },
  {
   "cell_type": "markdown",
   "id": "7b9575d0",
   "metadata": {},
   "source": [
    "## Загрузка и подготовка данных"
   ]
  },
  {
   "cell_type": "code",
   "execution_count": 3,
   "id": "c9dd4f1e",
   "metadata": {},
   "outputs": [],
   "source": [
    "def get_data_info(data):\n",
    "    display(data.sample(5))\n",
    "    display(data.describe(include='all'))\n",
    "    data.info()"
   ]
  },
  {
   "cell_type": "code",
   "execution_count": 4,
   "id": "2cf63033",
   "metadata": {},
   "outputs": [],
   "source": [
    "#Загрузка датафреймов \n",
    "# Тренировочная выборка\n",
    "try:\n",
    "    data = pd.read_csv('taxi.csv', index_col=[0], parse_dates=[0])\n",
    "except:\n",
    "    data = pd.read_csv('/datasets/taxi.csv', index_col=[0], parse_dates=[0])"
   ]
  },
  {
   "cell_type": "markdown",
   "id": "98255965",
   "metadata": {},
   "source": [
    "<img src=\"https://upload.wikimedia.org/wikipedia/commons/thumb/8/81/Stop_sign.png/240px-Stop_sign.png\" align=left width=35, heigth=35>\n",
    "<div class=\"alert alert-danger\">\n",
    "При запуске преокта в тренажере возникла ошибка. Пожалуйста проверь пути.</div>"
   ]
  },
  {
   "cell_type": "markdown",
   "id": "9979066a",
   "metadata": {},
   "source": [
    "<div class=\"alert alert-info\"  >\n",
    "    \n",
    "<h2>Комментарий студента_rev_1: <a class=\"tocSkip\"> </h2>\n",
    "Забыл путь поменять, извиняюсь)"
   ]
  },
  {
   "cell_type": "markdown",
   "id": "eb6754c0",
   "metadata": {},
   "source": [
    "<img src=\"https://emojigraph.org/media/apple/check-mark-button_2705.png\" align=left width=33, heigth=33>\n",
    "<div class=\"alert alert-success\">\n",
    "    <b>v2</b> исправлено </div>"
   ]
  },
  {
   "cell_type": "code",
   "execution_count": 5,
   "id": "e68f4097",
   "metadata": {},
   "outputs": [
    {
     "data": {
      "text/html": [
       "<div>\n",
       "<style scoped>\n",
       "    .dataframe tbody tr th:only-of-type {\n",
       "        vertical-align: middle;\n",
       "    }\n",
       "\n",
       "    .dataframe tbody tr th {\n",
       "        vertical-align: top;\n",
       "    }\n",
       "\n",
       "    .dataframe thead th {\n",
       "        text-align: right;\n",
       "    }\n",
       "</style>\n",
       "<table border=\"1\" class=\"dataframe\">\n",
       "  <thead>\n",
       "    <tr style=\"text-align: right;\">\n",
       "      <th></th>\n",
       "      <th>num_orders</th>\n",
       "    </tr>\n",
       "    <tr>\n",
       "      <th>datetime</th>\n",
       "      <th></th>\n",
       "    </tr>\n",
       "  </thead>\n",
       "  <tbody>\n",
       "    <tr>\n",
       "      <th>2018-03-05 10:10:00</th>\n",
       "      <td>5</td>\n",
       "    </tr>\n",
       "    <tr>\n",
       "      <th>2018-04-28 03:10:00</th>\n",
       "      <td>7</td>\n",
       "    </tr>\n",
       "    <tr>\n",
       "      <th>2018-07-19 12:10:00</th>\n",
       "      <td>8</td>\n",
       "    </tr>\n",
       "    <tr>\n",
       "      <th>2018-05-30 22:20:00</th>\n",
       "      <td>9</td>\n",
       "    </tr>\n",
       "    <tr>\n",
       "      <th>2018-05-21 12:50:00</th>\n",
       "      <td>6</td>\n",
       "    </tr>\n",
       "  </tbody>\n",
       "</table>\n",
       "</div>"
      ],
      "text/plain": [
       "                     num_orders\n",
       "datetime                       \n",
       "2018-03-05 10:10:00           5\n",
       "2018-04-28 03:10:00           7\n",
       "2018-07-19 12:10:00           8\n",
       "2018-05-30 22:20:00           9\n",
       "2018-05-21 12:50:00           6"
      ]
     },
     "metadata": {},
     "output_type": "display_data"
    },
    {
     "data": {
      "text/html": [
       "<div>\n",
       "<style scoped>\n",
       "    .dataframe tbody tr th:only-of-type {\n",
       "        vertical-align: middle;\n",
       "    }\n",
       "\n",
       "    .dataframe tbody tr th {\n",
       "        vertical-align: top;\n",
       "    }\n",
       "\n",
       "    .dataframe thead th {\n",
       "        text-align: right;\n",
       "    }\n",
       "</style>\n",
       "<table border=\"1\" class=\"dataframe\">\n",
       "  <thead>\n",
       "    <tr style=\"text-align: right;\">\n",
       "      <th></th>\n",
       "      <th>num_orders</th>\n",
       "    </tr>\n",
       "  </thead>\n",
       "  <tbody>\n",
       "    <tr>\n",
       "      <th>count</th>\n",
       "      <td>26496.000000</td>\n",
       "    </tr>\n",
       "    <tr>\n",
       "      <th>mean</th>\n",
       "      <td>14.070463</td>\n",
       "    </tr>\n",
       "    <tr>\n",
       "      <th>std</th>\n",
       "      <td>9.211330</td>\n",
       "    </tr>\n",
       "    <tr>\n",
       "      <th>min</th>\n",
       "      <td>0.000000</td>\n",
       "    </tr>\n",
       "    <tr>\n",
       "      <th>25%</th>\n",
       "      <td>8.000000</td>\n",
       "    </tr>\n",
       "    <tr>\n",
       "      <th>50%</th>\n",
       "      <td>13.000000</td>\n",
       "    </tr>\n",
       "    <tr>\n",
       "      <th>75%</th>\n",
       "      <td>19.000000</td>\n",
       "    </tr>\n",
       "    <tr>\n",
       "      <th>max</th>\n",
       "      <td>119.000000</td>\n",
       "    </tr>\n",
       "  </tbody>\n",
       "</table>\n",
       "</div>"
      ],
      "text/plain": [
       "         num_orders\n",
       "count  26496.000000\n",
       "mean      14.070463\n",
       "std        9.211330\n",
       "min        0.000000\n",
       "25%        8.000000\n",
       "50%       13.000000\n",
       "75%       19.000000\n",
       "max      119.000000"
      ]
     },
     "metadata": {},
     "output_type": "display_data"
    },
    {
     "name": "stdout",
     "output_type": "stream",
     "text": [
      "<class 'pandas.core.frame.DataFrame'>\n",
      "DatetimeIndex: 26496 entries, 2018-03-01 00:00:00 to 2018-08-31 23:50:00\n",
      "Data columns (total 1 columns):\n",
      " #   Column      Non-Null Count  Dtype\n",
      "---  ------      --------------  -----\n",
      " 0   num_orders  26496 non-null  int64\n",
      "dtypes: int64(1)\n",
      "memory usage: 414.0 KB\n"
     ]
    }
   ],
   "source": [
    "get_data_info(data)"
   ]
  },
  {
   "cell_type": "code",
   "execution_count": 6,
   "id": "f82af101",
   "metadata": {},
   "outputs": [
    {
     "data": {
      "text/plain": [
       "True"
      ]
     },
     "execution_count": 6,
     "metadata": {},
     "output_type": "execute_result"
    }
   ],
   "source": [
    "# сортировка индекса и проверка монотонности\n",
    "data.sort_index(inplace=True)\n",
    "data.index.is_monotonic"
   ]
  },
  {
   "cell_type": "code",
   "execution_count": 7,
   "id": "6418c6b8",
   "metadata": {},
   "outputs": [],
   "source": [
    "# ресемлирование данных по часу\n",
    "data = data.resample('1H').sum()"
   ]
  },
  {
   "cell_type": "markdown",
   "id": "365a463b",
   "metadata": {},
   "source": [
    "<img src=\"https://emojigraph.org/media/apple/check-mark-button_2705.png\" align=left width=33, heigth=33>\n",
    "<div class=\"alert alert-success\">\n",
    " 👍 Да, ресемплирование выполнено верно. И хорошо, что в качестве агрегирующей функции ты используешь сумму, её проще интерпретировать. </div>"
   ]
  },
  {
   "cell_type": "markdown",
   "id": "31a1cdca",
   "metadata": {},
   "source": [
    "<img src=\"https://upload.wikimedia.org/wikipedia/commons/thumb/8/81/Stop_sign.png/240px-Stop_sign.png\" align=left width=35, heigth=35>\n",
    "<div class=\"alert alert-danger\">\n",
    "\n",
    "Самый первый и самый простой шаг в анализе временных рядов - это посмотреть на его график. Это гораздо проще и быстрее, чем делать декомпозицию на тренд и сезонность.\n",
    "    \n",
    "Поэтому первым шагом прошу тебя вывести график временного ряда (ресемплированного по часам). Можно наложить на него усредненные данные (например за сутки и неделю), это позволит лучше понять данные.</div>"
   ]
  },
  {
   "cell_type": "markdown",
   "id": "9bdc98ec",
   "metadata": {},
   "source": [
    "<div class=\"alert alert-info\"  >\n",
    "    \n",
    "<h2>Комментарий студента_rev_1: <a class=\"tocSkip\"> </h2>\n",
    "Если правильно тебя понимаю надо просто график с сырыми данными?"
   ]
  },
  {
   "cell_type": "markdown",
   "id": "3b66f024",
   "metadata": {},
   "source": [
    "<img src=\"https://emojigraph.org/media/apple/check-mark-button_2705.png\" align=left width=33, heigth=33>\n",
    "<div class=\"alert alert-success\">\n",
    "    <b>v2</b> да, как ты и сделал ниже. Но если наложишь на него скльзящее среднее, с окном в сутки или неделю, то мы визуально сможем оценить линию тренда (и использовать это значение в качестве признака). </div>"
   ]
  },
  {
   "cell_type": "code",
   "execution_count": 8,
   "id": "a4838173",
   "metadata": {},
   "outputs": [],
   "source": [
    "def lineplot(data, title):\n",
    "    data.plot()\n",
    "    plt.title(title)\n",
    "    plt.show()"
   ]
  },
  {
   "cell_type": "code",
   "execution_count": 9,
   "id": "cf5b4371",
   "metadata": {},
   "outputs": [
    {
     "data": {
      "image/png": "[encoded data removed]",
      "text/plain": [
       "<Figure size 1080x504 with 1 Axes>"
      ]
     },
     "metadata": {},
     "output_type": "display_data"
    }
   ],
   "source": [
    "lineplot(data, 'row_data')"
   ]
  },
  {
   "cell_type": "code",
   "execution_count": 10,
   "id": "cf8ecee4",
   "metadata": {
    "scrolled": false
   },
   "outputs": [
    {
     "data": {
      "image/png": "[encoded data removed]",
      "text/plain": [
       "<Figure size 1080x504 with 1 Axes>"
      ]
     },
     "metadata": {},
     "output_type": "display_data"
    }
   ],
   "source": [
    "decomposed = seasonal_decompose(data)\n",
    "lineplot(decomposed.trend, 'Тренд(день)')"
   ]
  },
  {
   "cell_type": "markdown",
   "id": "15721f94",
   "metadata": {},
   "source": [
    "<img src=\"https://emojigraph.org/media/apple/check-mark-button_2705.png\" align=left width=33, heigth=33>\n",
    "<div class=\"alert alert-success\">\n",
    " 👍 Есть декомпозиция на тренд и сезонность</div>"
   ]
  },
  {
   "cell_type": "code",
   "execution_count": 11,
   "id": "0c8e23b7",
   "metadata": {},
   "outputs": [
    {
     "data": {
      "image/png": "[encoded data removed]",
      "text/plain": [
       "<Figure size 1080x504 with 1 Axes>"
      ]
     },
     "metadata": {},
     "output_type": "display_data"
    }
   ],
   "source": [
    "lineplot(decomposed.trend.rolling(7).mean(), 'Тренд (MA=7)')"
   ]
  },
  {
   "cell_type": "code",
   "execution_count": 12,
   "id": "9fc22e6a",
   "metadata": {},
   "outputs": [
    {
     "data": {
      "image/png": "[encoded data removed]",
      "text/plain": [
       "<Figure size 1080x504 with 1 Axes>"
      ]
     },
     "metadata": {},
     "output_type": "display_data"
    }
   ],
   "source": [
    "# \n",
    "lineplot(decomposed.seasonal.tail(24*7), 'Сезонность (последние 7 дней)')"
   ]
  },
  {
   "cell_type": "markdown",
   "id": "5acde9ef",
   "metadata": {},
   "source": [
    "<img src=\"https://emojigraph.org/media/apple/check-mark-button_2705.png\" align=left width=33, heigth=33>\n",
    "<div class=\"alert alert-success\">\n",
    " 👍\n",
    "\n",
    "Молодц, что наглядно показыаешь сезонность \"крупным планом\"\n",
    "</div>"
   ]
  },
  {
   "cell_type": "markdown",
   "id": "54522ab6",
   "metadata": {},
   "source": [
    "<img src=\"https://emojigraph.org/media/apple/check-mark-button_2705.png\" align=left width=33, heigth=33>\n",
    "<div class=\"alert alert-success\">\n",
    " 👍 Совет: в данных кроме суточной есть недельная сезонность. Чтобы увидеть её нужно сделать ресемплинг данных по суткам и вновь сделать декомпозицию на сезонность и тренд. Дело в том, что seasonal_decompose настраивается на сезонность с самым маленьким циклом, при ресемпле данных по часу это сутки, при ресемпле по суткам это неделя. </div>"
   ]
  },
  {
   "cell_type": "markdown",
   "id": "3a391244",
   "metadata": {},
   "source": [
    "<div class=\"alert alert-info\"  >\n",
    "    \n",
    "<h2>Комментарий студента_rev_1: <a class=\"tocSkip\"> </h2>\n",
    "Ниже сделал декомпозицию по дням, надеюсь праильно тебя понял\n"
   ]
  },
  {
   "cell_type": "markdown",
   "id": "c98ad641",
   "metadata": {},
   "source": [
    "<img src=\"https://upload.wikimedia.org/wikipedia/commons/b/ba/Warning_sign_4.0.png\" align=left width=44, heigth=33>\n",
    "<div class=\"alert alert-warning\">\n",
    " <b>v2</b>  \n",
    "\n",
    "Почти. На декомпозиции по дням ты видишь более \"чистый\" тренд, потому что недельные колебания ушли в сезонность.\n",
    "    \n",
    "Но вот как раз сезонность ты и не показал (((.\n",
    "    \n",
    "</div>"
   ]
  },
  {
   "cell_type": "markdown",
   "id": "c42e9939",
   "metadata": {},
   "source": [
    "<div class=\"alert alert-info\"  >\n",
    "    \n",
    "<h2>Комментарий студента_rev_2: <a class=\"tocSkip\"> </h2>\n",
    "Точно, добавил ниже\n"
   ]
  },
  {
   "cell_type": "markdown",
   "id": "019e3a58",
   "metadata": {},
   "source": [
    "<img src=\"https://emojigraph.org/media/apple/check-mark-button_2705.png\" align=left width=33, heigth=33>\n",
    "<div class=\"alert alert-success\">\n",
    "    <b>v3</b> 👍 </div>"
   ]
  },
  {
   "cell_type": "code",
   "execution_count": 13,
   "id": "6f768e63",
   "metadata": {},
   "outputs": [],
   "source": [
    "# ресемлирование данных по часу\n",
    "week = data.resample('D').sum()"
   ]
  },
  {
   "cell_type": "code",
   "execution_count": 14,
   "id": "89d2f111",
   "metadata": {},
   "outputs": [
    {
     "data": {
      "image/png": "[encoded data removed]",
      "text/plain": [
       "<Figure size 1080x504 with 1 Axes>"
      ]
     },
     "metadata": {},
     "output_type": "display_data"
    }
   ],
   "source": [
    "lineplot(week, 'week_data')"
   ]
  },
  {
   "cell_type": "code",
   "execution_count": 15,
   "id": "88dd8d0a",
   "metadata": {
    "scrolled": false
   },
   "outputs": [
    {
     "data": {
      "image/png": "[encoded data removed]",
      "text/plain": [
       "<Figure size 1080x504 with 1 Axes>"
      ]
     },
     "metadata": {},
     "output_type": "display_data"
    }
   ],
   "source": [
    "decomposed_week = seasonal_decompose(week)\n",
    "lineplot(decomposed_week.trend, 'Тренд (неделя)')"
   ]
  },
  {
   "cell_type": "code",
   "execution_count": 16,
   "id": "03d79b40",
   "metadata": {},
   "outputs": [
    {
     "data": {
      "image/png": "[encoded data removed]",
      "text/plain": [
       "<Figure size 1080x504 with 1 Axes>"
      ]
     },
     "metadata": {},
     "output_type": "display_data"
    }
   ],
   "source": [
    "lineplot(decomposed_week.trend.rolling(7).mean(), 'Тренд (неделя, MA=7)')"
   ]
  },
  {
   "cell_type": "code",
   "execution_count": 17,
   "id": "a89e4f5f",
   "metadata": {},
   "outputs": [
    {
     "data": {
      "image/png": "[encoded data removed]",
      "text/plain": [
       "<Figure size 1080x504 with 1 Axes>"
      ]
     },
     "metadata": {},
     "output_type": "display_data"
    }
   ],
   "source": [
    "# \n",
    "lineplot(decomposed_week.seasonal.tail(24), 'Сезонность (последние 7 дней)')"
   ]
  },
  {
   "cell_type": "markdown",
   "id": "5decfbf2",
   "metadata": {},
   "source": [
    "### Вывод:\n",
    "\n",
    "По графикам можно сделать следующие выводы:\n",
    "\n",
    "    Наблюдается равномерный рост количества заказов по тренду с периодическими небольшими падениями. Это может указывать на постепенное увеличение спроса или развитие бизнеса в данной области.\n",
    "    На графике сезонности по дням наблюдаетсяснижение количества заказов до минимуму в ночное время, затем рост с утра и в течение дня, достигая пика вечером. Это указывает на влияние времени суток и поведения потребителей на количество заказов.\n",
    "    Эти наблюдения могут быть полезны при прогнозировании и планировании количества заказов в будущем, а также при принятии решений по оптимизации и управлению предприятием."
   ]
  },
  {
   "cell_type": "markdown",
   "id": "a92e68b5",
   "metadata": {},
   "source": [
    "<img src=\"https://emojigraph.org/media/apple/check-mark-button_2705.png\" align=left width=33, heigth=33>\n",
    "<div class=\"alert alert-success\">\n",
    " 👍 </div>"
   ]
  },
  {
   "cell_type": "markdown",
   "id": "ad3edf6c",
   "metadata": {},
   "source": [
    "## Обучение"
   ]
  },
  {
   "cell_type": "markdown",
   "id": "f669ce40",
   "metadata": {},
   "source": [
    "### Подготовка данных"
   ]
  },
  {
   "cell_type": "markdown",
   "id": "e01a83a8",
   "metadata": {},
   "source": [
    "<img src=\"https://upload.wikimedia.org/wikipedia/commons/b/ba/Warning_sign_4.0.png\" align=left width=44, heigth=33>\n",
    "<div class=\"alert alert-warning\">\n",
    "Создание признаков для решения задачи - это важнейший этап, от которого зависит, сможешь ли ты обучить модели или нет. Поэтому что если в признаках есть полезный сигнал, то найти статистическую взаимоствязь между признаками и таргетом сможет любая модель.  А если признаки пустые и неинформативные, то никакая модель не сможет приемлимое качество решения.\n",
    "    \n",
    "А создание признаков должно быть основано на проведенном исследовании и его результатах. Ниже я тебе покажу, как можно изменить создание признаков, чтобы они стали действительно полезными.    \n",
    "</div>"
   ]
  },
  {
   "cell_type": "code",
   "execution_count": 18,
   "id": "8310a193",
   "metadata": {},
   "outputs": [],
   "source": [
    "def make_features(data, max_lag, rolling_mean_size):\n",
    "#     data['day'] = data.index.day\n",
    "    data['dayofweek'] = data.index.dayofweek\n",
    "    \n",
    "    for lag in range(1, max_lag + 1):\n",
    "        data['lag_{}'.format(lag)] = data['num_orders'].shift(lag)\n",
    "    \n",
    "    data['rolling_mean'] = data['num_orders'].shift(1).rolling(rolling_mean_size).mean()\n",
    "    data.dropna(inplace=True)\n",
    "    \n",
    "    return data"
   ]
  },
  {
   "cell_type": "markdown",
   "id": "30ea4c6d",
   "metadata": {},
   "source": [
    "<img src=\"https://emojigraph.org/media/apple/check-mark-button_2705.png\" align=left width=33, heigth=33>\n",
    "<div class=\"alert alert-success\">\n",
    "👍 Хорошо, что в признаки ты выносишь день недели, в данных есть недельная сезонность.\n",
    "        \n",
    "</div>"
   ]
  },
  {
   "cell_type": "markdown",
   "id": "29f1f9f7",
   "metadata": {},
   "source": [
    "<img src=\"https://upload.wikimedia.org/wikipedia/commons/b/ba/Warning_sign_4.0.png\" align=left width=44, heigth=33>\n",
    "<div class=\"alert alert-warning\">\n",
    "В наших данных наблюдается очень четкая сезонность внутри суток. Рекомендую использовать информацию о часе в качестве признака.\n",
    "\n",
    "</div>"
   ]
  },
  {
   "cell_type": "markdown",
   "id": "a1042866",
   "metadata": {},
   "source": [
    "<img src=\"https://upload.wikimedia.org/wikipedia/commons/b/ba/Warning_sign_4.0.png\" align=left width=44, heigth=33>\n",
    "<div class=\"alert alert-warning\">\n",
    "Предлагаю удалить признак \"день\", т.к. сезонность внутри месяца мы не обнаружили.\n",
    "\n",
    "</div>"
   ]
  },
  {
   "cell_type": "markdown",
   "id": "6aa1887d",
   "metadata": {},
   "source": [
    "<img src=\"https://upload.wikimedia.org/wikipedia/commons/thumb/8/81/Stop_sign.png/240px-Stop_sign.png\" align=left width=35, heigth=35>\n",
    "<div class=\"alert alert-danger\">\n",
    "А вот календарные признаки \"месяц\" и \"год\" лучше удалить.  Данных у нас немного, всего 6 месяцев. При этом данные тренда мы учтем с помощью скользящего среднего и отстающих значений.\n",
    "</div>\n"
   ]
  },
  {
   "cell_type": "markdown",
   "id": "0ac82110",
   "metadata": {},
   "source": [
    "<div class=\"alert alert-info\"  >\n",
    "    \n",
    "<h2>Комментарий студента_rev_1: <a class=\"tocSkip\"> </h2>\n",
    "Год и месяц я удалил, день пока закоментил т.к. засомневался - просто день или день недели)"
   ]
  },
  {
   "cell_type": "markdown",
   "id": "1b268c85",
   "metadata": {},
   "source": [
    "<img src=\"https://emojigraph.org/media/apple/check-mark-button_2705.png\" align=left width=33, heigth=33>\n",
    "<div class=\"alert alert-success\">\n",
    "    <b>v2</b> все правильно. Смотри, и по графику, который ты надеюсь достроишь (сезонность внутри недели) и интуитивно понятно, что в одни дни поездок стабильно больше чем в другие. А значит признак \"день  недели\" нам важен, в отличии от признака \"номер дня в месяце\". </div>"
   ]
  },
  {
   "cell_type": "code",
   "execution_count": 19,
   "id": "e51b07c7",
   "metadata": {
    "scrolled": true
   },
   "outputs": [
    {
     "data": {
      "text/html": [
       "<div>\n",
       "<style scoped>\n",
       "    .dataframe tbody tr th:only-of-type {\n",
       "        vertical-align: middle;\n",
       "    }\n",
       "\n",
       "    .dataframe tbody tr th {\n",
       "        vertical-align: top;\n",
       "    }\n",
       "\n",
       "    .dataframe thead th {\n",
       "        text-align: right;\n",
       "    }\n",
       "</style>\n",
       "<table border=\"1\" class=\"dataframe\">\n",
       "  <thead>\n",
       "    <tr style=\"text-align: right;\">\n",
       "      <th></th>\n",
       "      <th>num_orders</th>\n",
       "      <th>dayofweek</th>\n",
       "      <th>lag_1</th>\n",
       "      <th>lag_2</th>\n",
       "      <th>lag_3</th>\n",
       "      <th>lag_4</th>\n",
       "      <th>lag_5</th>\n",
       "      <th>lag_6</th>\n",
       "      <th>lag_7</th>\n",
       "      <th>lag_8</th>\n",
       "      <th>...</th>\n",
       "      <th>lag_16</th>\n",
       "      <th>lag_17</th>\n",
       "      <th>lag_18</th>\n",
       "      <th>lag_19</th>\n",
       "      <th>lag_20</th>\n",
       "      <th>lag_21</th>\n",
       "      <th>lag_22</th>\n",
       "      <th>lag_23</th>\n",
       "      <th>lag_24</th>\n",
       "      <th>rolling_mean</th>\n",
       "    </tr>\n",
       "    <tr>\n",
       "      <th>datetime</th>\n",
       "      <th></th>\n",
       "      <th></th>\n",
       "      <th></th>\n",
       "      <th></th>\n",
       "      <th></th>\n",
       "      <th></th>\n",
       "      <th></th>\n",
       "      <th></th>\n",
       "      <th></th>\n",
       "      <th></th>\n",
       "      <th></th>\n",
       "      <th></th>\n",
       "      <th></th>\n",
       "      <th></th>\n",
       "      <th></th>\n",
       "      <th></th>\n",
       "      <th></th>\n",
       "      <th></th>\n",
       "      <th></th>\n",
       "      <th></th>\n",
       "      <th></th>\n",
       "    </tr>\n",
       "  </thead>\n",
       "  <tbody>\n",
       "    <tr>\n",
       "      <th>2018-07-24 14:00:00</th>\n",
       "      <td>116</td>\n",
       "      <td>1</td>\n",
       "      <td>64.0</td>\n",
       "      <td>93.0</td>\n",
       "      <td>88.0</td>\n",
       "      <td>94.0</td>\n",
       "      <td>114.0</td>\n",
       "      <td>68.0</td>\n",
       "      <td>103.0</td>\n",
       "      <td>30.0</td>\n",
       "      <td>...</td>\n",
       "      <td>104.0</td>\n",
       "      <td>119.0</td>\n",
       "      <td>92.0</td>\n",
       "      <td>105.0</td>\n",
       "      <td>73.0</td>\n",
       "      <td>136.0</td>\n",
       "      <td>127.0</td>\n",
       "      <td>118.0</td>\n",
       "      <td>86.0</td>\n",
       "      <td>100.916667</td>\n",
       "    </tr>\n",
       "    <tr>\n",
       "      <th>2018-08-13 06:00:00</th>\n",
       "      <td>66</td>\n",
       "      <td>0</td>\n",
       "      <td>83.0</td>\n",
       "      <td>143.0</td>\n",
       "      <td>168.0</td>\n",
       "      <td>437.0</td>\n",
       "      <td>273.0</td>\n",
       "      <td>160.0</td>\n",
       "      <td>185.0</td>\n",
       "      <td>118.0</td>\n",
       "      <td>...</td>\n",
       "      <td>104.0</td>\n",
       "      <td>120.0</td>\n",
       "      <td>123.0</td>\n",
       "      <td>81.0</td>\n",
       "      <td>108.0</td>\n",
       "      <td>108.0</td>\n",
       "      <td>97.0</td>\n",
       "      <td>24.0</td>\n",
       "      <td>22.0</td>\n",
       "      <td>131.833333</td>\n",
       "    </tr>\n",
       "    <tr>\n",
       "      <th>2018-03-14 20:00:00</th>\n",
       "      <td>83</td>\n",
       "      <td>2</td>\n",
       "      <td>46.0</td>\n",
       "      <td>65.0</td>\n",
       "      <td>57.0</td>\n",
       "      <td>59.0</td>\n",
       "      <td>51.0</td>\n",
       "      <td>72.0</td>\n",
       "      <td>67.0</td>\n",
       "      <td>41.0</td>\n",
       "      <td>...</td>\n",
       "      <td>21.0</td>\n",
       "      <td>57.0</td>\n",
       "      <td>39.0</td>\n",
       "      <td>72.0</td>\n",
       "      <td>84.0</td>\n",
       "      <td>75.0</td>\n",
       "      <td>62.0</td>\n",
       "      <td>77.0</td>\n",
       "      <td>91.0</td>\n",
       "      <td>53.208333</td>\n",
       "    </tr>\n",
       "    <tr>\n",
       "      <th>2018-03-05 06:00:00</th>\n",
       "      <td>3</td>\n",
       "      <td>0</td>\n",
       "      <td>16.0</td>\n",
       "      <td>34.0</td>\n",
       "      <td>51.0</td>\n",
       "      <td>32.0</td>\n",
       "      <td>176.0</td>\n",
       "      <td>86.0</td>\n",
       "      <td>68.0</td>\n",
       "      <td>83.0</td>\n",
       "      <td>...</td>\n",
       "      <td>56.0</td>\n",
       "      <td>30.0</td>\n",
       "      <td>30.0</td>\n",
       "      <td>41.0</td>\n",
       "      <td>19.0</td>\n",
       "      <td>39.0</td>\n",
       "      <td>39.0</td>\n",
       "      <td>12.0</td>\n",
       "      <td>11.0</td>\n",
       "      <td>53.500000</td>\n",
       "    </tr>\n",
       "    <tr>\n",
       "      <th>2018-05-20 00:00:00</th>\n",
       "      <td>112</td>\n",
       "      <td>6</td>\n",
       "      <td>66.0</td>\n",
       "      <td>100.0</td>\n",
       "      <td>69.0</td>\n",
       "      <td>79.0</td>\n",
       "      <td>77.0</td>\n",
       "      <td>46.0</td>\n",
       "      <td>39.0</td>\n",
       "      <td>107.0</td>\n",
       "      <td>...</td>\n",
       "      <td>84.0</td>\n",
       "      <td>18.0</td>\n",
       "      <td>15.0</td>\n",
       "      <td>24.0</td>\n",
       "      <td>89.0</td>\n",
       "      <td>108.0</td>\n",
       "      <td>119.0</td>\n",
       "      <td>103.0</td>\n",
       "      <td>234.0</td>\n",
       "      <td>78.416667</td>\n",
       "    </tr>\n",
       "  </tbody>\n",
       "</table>\n",
       "<p>5 rows × 27 columns</p>\n",
       "</div>"
      ],
      "text/plain": [
       "                     num_orders  dayofweek  lag_1  lag_2  lag_3  lag_4  lag_5  \\\n",
       "datetime                                                                        \n",
       "2018-07-24 14:00:00         116          1   64.0   93.0   88.0   94.0  114.0   \n",
       "2018-08-13 06:00:00          66          0   83.0  143.0  168.0  437.0  273.0   \n",
       "2018-03-14 20:00:00          83          2   46.0   65.0   57.0   59.0   51.0   \n",
       "2018-03-05 06:00:00           3          0   16.0   34.0   51.0   32.0  176.0   \n",
       "2018-05-20 00:00:00         112          6   66.0  100.0   69.0   79.0   77.0   \n",
       "\n",
       "                     lag_6  lag_7  lag_8  ...  lag_16  lag_17  lag_18  lag_19  \\\n",
       "datetime                                  ...                                   \n",
       "2018-07-24 14:00:00   68.0  103.0   30.0  ...   104.0   119.0    92.0   105.0   \n",
       "2018-08-13 06:00:00  160.0  185.0  118.0  ...   104.0   120.0   123.0    81.0   \n",
       "2018-03-14 20:00:00   72.0   67.0   41.0  ...    21.0    57.0    39.0    72.0   \n",
       "2018-03-05 06:00:00   86.0   68.0   83.0  ...    56.0    30.0    30.0    41.0   \n",
       "2018-05-20 00:00:00   46.0   39.0  107.0  ...    84.0    18.0    15.0    24.0   \n",
       "\n",
       "                     lag_20  lag_21  lag_22  lag_23  lag_24  rolling_mean  \n",
       "datetime                                                                   \n",
       "2018-07-24 14:00:00    73.0   136.0   127.0   118.0    86.0    100.916667  \n",
       "2018-08-13 06:00:00   108.0   108.0    97.0    24.0    22.0    131.833333  \n",
       "2018-03-14 20:00:00    84.0    75.0    62.0    77.0    91.0     53.208333  \n",
       "2018-03-05 06:00:00    19.0    39.0    39.0    12.0    11.0     53.500000  \n",
       "2018-05-20 00:00:00    89.0   108.0   119.0   103.0   234.0     78.416667  \n",
       "\n",
       "[5 rows x 27 columns]"
      ]
     },
     "metadata": {},
     "output_type": "display_data"
    },
    {
     "data": {
      "text/html": [
       "<div>\n",
       "<style scoped>\n",
       "    .dataframe tbody tr th:only-of-type {\n",
       "        vertical-align: middle;\n",
       "    }\n",
       "\n",
       "    .dataframe tbody tr th {\n",
       "        vertical-align: top;\n",
       "    }\n",
       "\n",
       "    .dataframe thead th {\n",
       "        text-align: right;\n",
       "    }\n",
       "</style>\n",
       "<table border=\"1\" class=\"dataframe\">\n",
       "  <thead>\n",
       "    <tr style=\"text-align: right;\">\n",
       "      <th></th>\n",
       "      <th>num_orders</th>\n",
       "      <th>dayofweek</th>\n",
       "      <th>lag_1</th>\n",
       "      <th>lag_2</th>\n",
       "      <th>lag_3</th>\n",
       "      <th>lag_4</th>\n",
       "      <th>lag_5</th>\n",
       "      <th>lag_6</th>\n",
       "      <th>lag_7</th>\n",
       "      <th>lag_8</th>\n",
       "      <th>...</th>\n",
       "      <th>lag_16</th>\n",
       "      <th>lag_17</th>\n",
       "      <th>lag_18</th>\n",
       "      <th>lag_19</th>\n",
       "      <th>lag_20</th>\n",
       "      <th>lag_21</th>\n",
       "      <th>lag_22</th>\n",
       "      <th>lag_23</th>\n",
       "      <th>lag_24</th>\n",
       "      <th>rolling_mean</th>\n",
       "    </tr>\n",
       "  </thead>\n",
       "  <tbody>\n",
       "    <tr>\n",
       "      <th>count</th>\n",
       "      <td>4392.000000</td>\n",
       "      <td>4392.000000</td>\n",
       "      <td>4392.000000</td>\n",
       "      <td>4392.000000</td>\n",
       "      <td>4392.000000</td>\n",
       "      <td>4392.000000</td>\n",
       "      <td>4392.000000</td>\n",
       "      <td>4392.000000</td>\n",
       "      <td>4392.000000</td>\n",
       "      <td>4392.000000</td>\n",
       "      <td>...</td>\n",
       "      <td>4392.000000</td>\n",
       "      <td>4392.000000</td>\n",
       "      <td>4392.000000</td>\n",
       "      <td>4392.000000</td>\n",
       "      <td>4392.000000</td>\n",
       "      <td>4392.000000</td>\n",
       "      <td>4392.000000</td>\n",
       "      <td>4392.000000</td>\n",
       "      <td>4392.000000</td>\n",
       "      <td>4392.000000</td>\n",
       "    </tr>\n",
       "    <tr>\n",
       "      <th>mean</th>\n",
       "      <td>84.573543</td>\n",
       "      <td>3.005464</td>\n",
       "      <td>84.540073</td>\n",
       "      <td>84.515027</td>\n",
       "      <td>84.493852</td>\n",
       "      <td>84.472678</td>\n",
       "      <td>84.451958</td>\n",
       "      <td>84.421448</td>\n",
       "      <td>84.382058</td>\n",
       "      <td>84.346995</td>\n",
       "      <td>...</td>\n",
       "      <td>84.152322</td>\n",
       "      <td>84.145264</td>\n",
       "      <td>84.140027</td>\n",
       "      <td>84.123634</td>\n",
       "      <td>84.072404</td>\n",
       "      <td>84.064891</td>\n",
       "      <td>84.028689</td>\n",
       "      <td>84.003871</td>\n",
       "      <td>83.969262</td>\n",
       "      <td>84.257153</td>\n",
       "    </tr>\n",
       "    <tr>\n",
       "      <th>std</th>\n",
       "      <td>45.050123</td>\n",
       "      <td>1.996117</td>\n",
       "      <td>45.015225</td>\n",
       "      <td>44.968748</td>\n",
       "      <td>44.955561</td>\n",
       "      <td>44.944716</td>\n",
       "      <td>44.941932</td>\n",
       "      <td>44.904187</td>\n",
       "      <td>44.863722</td>\n",
       "      <td>44.835856</td>\n",
       "      <td>...</td>\n",
       "      <td>44.723919</td>\n",
       "      <td>44.732387</td>\n",
       "      <td>44.739487</td>\n",
       "      <td>44.754926</td>\n",
       "      <td>44.673101</td>\n",
       "      <td>44.673365</td>\n",
       "      <td>44.619468</td>\n",
       "      <td>44.588590</td>\n",
       "      <td>44.498432</td>\n",
       "      <td>26.308289</td>\n",
       "    </tr>\n",
       "    <tr>\n",
       "      <th>min</th>\n",
       "      <td>0.000000</td>\n",
       "      <td>0.000000</td>\n",
       "      <td>0.000000</td>\n",
       "      <td>0.000000</td>\n",
       "      <td>0.000000</td>\n",
       "      <td>0.000000</td>\n",
       "      <td>0.000000</td>\n",
       "      <td>0.000000</td>\n",
       "      <td>0.000000</td>\n",
       "      <td>0.000000</td>\n",
       "      <td>...</td>\n",
       "      <td>0.000000</td>\n",
       "      <td>0.000000</td>\n",
       "      <td>0.000000</td>\n",
       "      <td>0.000000</td>\n",
       "      <td>0.000000</td>\n",
       "      <td>0.000000</td>\n",
       "      <td>0.000000</td>\n",
       "      <td>0.000000</td>\n",
       "      <td>0.000000</td>\n",
       "      <td>42.375000</td>\n",
       "    </tr>\n",
       "    <tr>\n",
       "      <th>25%</th>\n",
       "      <td>54.000000</td>\n",
       "      <td>1.000000</td>\n",
       "      <td>54.000000</td>\n",
       "      <td>54.000000</td>\n",
       "      <td>54.000000</td>\n",
       "      <td>54.000000</td>\n",
       "      <td>54.000000</td>\n",
       "      <td>54.000000</td>\n",
       "      <td>54.000000</td>\n",
       "      <td>54.000000</td>\n",
       "      <td>...</td>\n",
       "      <td>54.000000</td>\n",
       "      <td>54.000000</td>\n",
       "      <td>54.000000</td>\n",
       "      <td>54.000000</td>\n",
       "      <td>54.000000</td>\n",
       "      <td>54.000000</td>\n",
       "      <td>54.000000</td>\n",
       "      <td>54.000000</td>\n",
       "      <td>54.000000</td>\n",
       "      <td>63.666667</td>\n",
       "    </tr>\n",
       "    <tr>\n",
       "      <th>50%</th>\n",
       "      <td>78.000000</td>\n",
       "      <td>3.000000</td>\n",
       "      <td>78.000000</td>\n",
       "      <td>78.000000</td>\n",
       "      <td>78.000000</td>\n",
       "      <td>78.000000</td>\n",
       "      <td>78.000000</td>\n",
       "      <td>78.000000</td>\n",
       "      <td>78.000000</td>\n",
       "      <td>78.000000</td>\n",
       "      <td>...</td>\n",
       "      <td>78.000000</td>\n",
       "      <td>78.000000</td>\n",
       "      <td>78.000000</td>\n",
       "      <td>78.000000</td>\n",
       "      <td>78.000000</td>\n",
       "      <td>78.000000</td>\n",
       "      <td>78.000000</td>\n",
       "      <td>78.000000</td>\n",
       "      <td>78.000000</td>\n",
       "      <td>79.708333</td>\n",
       "    </tr>\n",
       "    <tr>\n",
       "      <th>75%</th>\n",
       "      <td>108.000000</td>\n",
       "      <td>5.000000</td>\n",
       "      <td>108.000000</td>\n",
       "      <td>108.000000</td>\n",
       "      <td>107.250000</td>\n",
       "      <td>107.000000</td>\n",
       "      <td>107.000000</td>\n",
       "      <td>107.000000</td>\n",
       "      <td>107.000000</td>\n",
       "      <td>107.000000</td>\n",
       "      <td>...</td>\n",
       "      <td>107.000000</td>\n",
       "      <td>107.000000</td>\n",
       "      <td>107.000000</td>\n",
       "      <td>107.000000</td>\n",
       "      <td>107.000000</td>\n",
       "      <td>107.000000</td>\n",
       "      <td>107.000000</td>\n",
       "      <td>107.000000</td>\n",
       "      <td>107.000000</td>\n",
       "      <td>99.802083</td>\n",
       "    </tr>\n",
       "    <tr>\n",
       "      <th>max</th>\n",
       "      <td>462.000000</td>\n",
       "      <td>6.000000</td>\n",
       "      <td>462.000000</td>\n",
       "      <td>462.000000</td>\n",
       "      <td>462.000000</td>\n",
       "      <td>462.000000</td>\n",
       "      <td>462.000000</td>\n",
       "      <td>462.000000</td>\n",
       "      <td>462.000000</td>\n",
       "      <td>462.000000</td>\n",
       "      <td>...</td>\n",
       "      <td>462.000000</td>\n",
       "      <td>462.000000</td>\n",
       "      <td>462.000000</td>\n",
       "      <td>462.000000</td>\n",
       "      <td>462.000000</td>\n",
       "      <td>462.000000</td>\n",
       "      <td>462.000000</td>\n",
       "      <td>462.000000</td>\n",
       "      <td>462.000000</td>\n",
       "      <td>176.916667</td>\n",
       "    </tr>\n",
       "  </tbody>\n",
       "</table>\n",
       "<p>8 rows × 27 columns</p>\n",
       "</div>"
      ],
      "text/plain": [
       "        num_orders    dayofweek        lag_1        lag_2        lag_3  \\\n",
       "count  4392.000000  4392.000000  4392.000000  4392.000000  4392.000000   \n",
       "mean     84.573543     3.005464    84.540073    84.515027    84.493852   \n",
       "std      45.050123     1.996117    45.015225    44.968748    44.955561   \n",
       "min       0.000000     0.000000     0.000000     0.000000     0.000000   \n",
       "25%      54.000000     1.000000    54.000000    54.000000    54.000000   \n",
       "50%      78.000000     3.000000    78.000000    78.000000    78.000000   \n",
       "75%     108.000000     5.000000   108.000000   108.000000   107.250000   \n",
       "max     462.000000     6.000000   462.000000   462.000000   462.000000   \n",
       "\n",
       "             lag_4        lag_5        lag_6        lag_7        lag_8  ...  \\\n",
       "count  4392.000000  4392.000000  4392.000000  4392.000000  4392.000000  ...   \n",
       "mean     84.472678    84.451958    84.421448    84.382058    84.346995  ...   \n",
       "std      44.944716    44.941932    44.904187    44.863722    44.835856  ...   \n",
       "min       0.000000     0.000000     0.000000     0.000000     0.000000  ...   \n",
       "25%      54.000000    54.000000    54.000000    54.000000    54.000000  ...   \n",
       "50%      78.000000    78.000000    78.000000    78.000000    78.000000  ...   \n",
       "75%     107.000000   107.000000   107.000000   107.000000   107.000000  ...   \n",
       "max     462.000000   462.000000   462.000000   462.000000   462.000000  ...   \n",
       "\n",
       "            lag_16       lag_17       lag_18       lag_19       lag_20  \\\n",
       "count  4392.000000  4392.000000  4392.000000  4392.000000  4392.000000   \n",
       "mean     84.152322    84.145264    84.140027    84.123634    84.072404   \n",
       "std      44.723919    44.732387    44.739487    44.754926    44.673101   \n",
       "min       0.000000     0.000000     0.000000     0.000000     0.000000   \n",
       "25%      54.000000    54.000000    54.000000    54.000000    54.000000   \n",
       "50%      78.000000    78.000000    78.000000    78.000000    78.000000   \n",
       "75%     107.000000   107.000000   107.000000   107.000000   107.000000   \n",
       "max     462.000000   462.000000   462.000000   462.000000   462.000000   \n",
       "\n",
       "            lag_21       lag_22       lag_23       lag_24  rolling_mean  \n",
       "count  4392.000000  4392.000000  4392.000000  4392.000000   4392.000000  \n",
       "mean     84.064891    84.028689    84.003871    83.969262     84.257153  \n",
       "std      44.673365    44.619468    44.588590    44.498432     26.308289  \n",
       "min       0.000000     0.000000     0.000000     0.000000     42.375000  \n",
       "25%      54.000000    54.000000    54.000000    54.000000     63.666667  \n",
       "50%      78.000000    78.000000    78.000000    78.000000     79.708333  \n",
       "75%     107.000000   107.000000   107.000000   107.000000     99.802083  \n",
       "max     462.000000   462.000000   462.000000   462.000000    176.916667  \n",
       "\n",
       "[8 rows x 27 columns]"
      ]
     },
     "metadata": {},
     "output_type": "display_data"
    },
    {
     "name": "stdout",
     "output_type": "stream",
     "text": [
      "<class 'pandas.core.frame.DataFrame'>\n",
      "DatetimeIndex: 4392 entries, 2018-03-02 00:00:00 to 2018-08-31 23:00:00\n",
      "Freq: H\n",
      "Data columns (total 27 columns):\n",
      " #   Column        Non-Null Count  Dtype  \n",
      "---  ------        --------------  -----  \n",
      " 0   num_orders    4392 non-null   int64  \n",
      " 1   dayofweek     4392 non-null   int64  \n",
      " 2   lag_1         4392 non-null   float64\n",
      " 3   lag_2         4392 non-null   float64\n",
      " 4   lag_3         4392 non-null   float64\n",
      " 5   lag_4         4392 non-null   float64\n",
      " 6   lag_5         4392 non-null   float64\n",
      " 7   lag_6         4392 non-null   float64\n",
      " 8   lag_7         4392 non-null   float64\n",
      " 9   lag_8         4392 non-null   float64\n",
      " 10  lag_9         4392 non-null   float64\n",
      " 11  lag_10        4392 non-null   float64\n",
      " 12  lag_11        4392 non-null   float64\n",
      " 13  lag_12        4392 non-null   float64\n",
      " 14  lag_13        4392 non-null   float64\n",
      " 15  lag_14        4392 non-null   float64\n",
      " 16  lag_15        4392 non-null   float64\n",
      " 17  lag_16        4392 non-null   float64\n",
      " 18  lag_17        4392 non-null   float64\n",
      " 19  lag_18        4392 non-null   float64\n",
      " 20  lag_19        4392 non-null   float64\n",
      " 21  lag_20        4392 non-null   float64\n",
      " 22  lag_21        4392 non-null   float64\n",
      " 23  lag_22        4392 non-null   float64\n",
      " 24  lag_23        4392 non-null   float64\n",
      " 25  lag_24        4392 non-null   float64\n",
      " 26  rolling_mean  4392 non-null   float64\n",
      "dtypes: float64(25), int64(2)\n",
      "memory usage: 960.8 KB\n"
     ]
    }
   ],
   "source": [
    "data_learn = data.copy()\n",
    "data_learn = make_features(data_learn, 24, 24)\n",
    "get_data_info(data_learn)"
   ]
  },
  {
   "cell_type": "markdown",
   "id": "3dba0140",
   "metadata": {},
   "source": [
    "<img src=\"https://upload.wikimedia.org/wikipedia/commons/b/ba/Warning_sign_4.0.png\" align=left width=44, heigth=33>\n",
    "<div class=\"alert alert-warning\">\n",
    "    \n",
    "    \n",
    "Гиперпараметры max_lag, rolling_mean_size очень важны.  Возможно это самые важные гиперпараметры в проекте, больше всего влияющие на результат.\n",
    "    \n",
    "Выбирая значения для размера окна и количества отстающих значений важно использовать известную нам информацию о сезонности. А сезонность у нас есть суточная и недельная. Поэтому рекомендую взять их кратными суткам, а лучше равным неделе.\n",
    "    \n",
    " - Скользящее среднее является олицетворением тренда, и если взять его равным суткам, то оно становится достаточно гладким (из него уходитят колебания, вызванные суточной сезонностью), а если взять равное неделе - то еще ровнее. Это хорошо видно пографикам со скользящим средним, если ты посмотришь из за сутки и неделю.\n",
    " \n",
    " - На использовании отстающих значений и авторегрессии временного ряда основано много методов прогнозироания временных рядов (например ARIMA). И здесь тоже работает принцип - чем больше признаков - тем выше качество. Но разумным компромисом является использование достаточного количества признаков, такого, где автокореляция является значимой. И такими точками как раз служат сутки и неделя. \n",
    "    \n",
    "    \n",
    "    \n",
    "    \n",
    "Резюме: попробуй исползьзовать гиперпараметры max_lag, rolling_mean_size одинаковыми и  равными 24 (сутки)  или 168 (неделя), лучше оба одинаковые.  Имей в виду, что использование 168 отстающих значений может сильно усложнить обучение модели, но метрики получаются значительно лучше.\n",
    "        \n",
    "    \n",
    "В целом ты молодец, т.к. использовал 24 отстающих значения. Но почему скользящее среднее взято за 7 часов?    \n",
    "    \n",
    "</div>"
   ]
  },
  {
   "cell_type": "markdown",
   "id": "f5931025",
   "metadata": {},
   "source": [
    "<div class=\"alert alert-info\"  >\n",
    "    \n",
    "<h2>Комментарий студента_rev_1: <a class=\"tocSkip\"> </h2>\n",
    "Тут просто взял минимальное значение которое давало адекватную метрику когда перебором подбирал, исправил на 24"
   ]
  },
  {
   "cell_type": "markdown",
   "id": "d34f6a2f",
   "metadata": {},
   "source": [
    "<img src=\"https://emojigraph.org/media/apple/check-mark-button_2705.png\" align=left width=33, heigth=33>\n",
    "<div class=\"alert alert-success\">\n",
    "    <b>v2</b> исправлено 👍 </div>"
   ]
  },
  {
   "cell_type": "markdown",
   "id": "de06036b",
   "metadata": {},
   "source": [
    "### Разделение на выборки"
   ]
  },
  {
   "cell_type": "code",
   "execution_count": 20,
   "id": "65525869",
   "metadata": {},
   "outputs": [],
   "source": [
    "features = data_learn.drop(['num_orders'], axis=1) # выделение признаков\n",
    "target = data_learn['num_orders']"
   ]
  },
  {
   "cell_type": "code",
   "execution_count": 21,
   "id": "7b1a06c3",
   "metadata": {},
   "outputs": [],
   "source": [
    "features_train, features_test, target_train, target_test = train_test_split(\n",
    "    features,\n",
    "    target,\n",
    "    shuffle=False,\n",
    "    test_size=TEST_SIZE,\n",
    "    random_state=RANDOM_STATE)"
   ]
  },
  {
   "cell_type": "markdown",
   "id": "dc294bfd",
   "metadata": {},
   "source": [
    "<img src=\"https://emojigraph.org/media/apple/check-mark-button_2705.png\" align=left width=33, heigth=33>\n",
    "<div class=\"alert alert-success\">\n",
    "Корректное разбиение, данные не перемешиваются. </div>"
   ]
  },
  {
   "cell_type": "markdown",
   "id": "429f0250",
   "metadata": {},
   "source": [
    "### Обучение моделей"
   ]
  },
  {
   "cell_type": "code",
   "execution_count": 22,
   "id": "71f54919",
   "metadata": {},
   "outputs": [],
   "source": [
    "# Разделение временных рядов\n",
    "time_cv = TimeSeriesSplit(n_splits=5)"
   ]
  },
  {
   "cell_type": "code",
   "execution_count": 23,
   "id": "1697cbaf",
   "metadata": {},
   "outputs": [],
   "source": [
    "def fit_model(estimator, param_grid, features_train, target_train, features_test, target_test, n_jobs):\n",
    "    '''\n",
    "    функция для тренировки моделей и подбора гиперпараметров методом GridSearchCV\n",
    "    '''\n",
    "    model = GridSearchCV(estimator=estimator,\n",
    "                         param_grid=param_grid,\n",
    "                         n_jobs=n_jobs,\n",
    "                         cv=time_cv,\n",
    "                         verbose=False,\n",
    "                         scoring='neg_root_mean_squared_error'\n",
    "                         )\n",
    "\n",
    "    start_time = time()\n",
    "    model.fit(features_train, target_train)\n",
    "    end_time = time()\n",
    "    training_time = end_time - start_time\n",
    "\n",
    "    best_rmse = abs(round(model.best_score_, 1))\n",
    "\n",
    "    print(f'Best RMSE: {best_rmse}')\n",
    "    print(f'Best params: {model.best_params_}')\n",
    "\n",
    "    best_model = estimator.set_params(**model.best_params_)\n",
    "\n",
    "    start_time = time()\n",
    "    best_model.fit(features_train, target_train)\n",
    "    end_time = time()\n",
    "    prediction_time = end_time - start_time\n",
    "\n",
    "    predictions_train = best_model.predict(features_train)\n",
    "    train_rmse = mse(target_train, predictions_train)** 0.5\n",
    "#     train_rmse = mse(target_train, predictions_train, squared=False)\n",
    "\n",
    "    return best_model, best_rmse, training_time, prediction_time, train_rmse"
   ]
  },
  {
   "cell_type": "code",
   "execution_count": 24,
   "id": "b03d7943",
   "metadata": {},
   "outputs": [],
   "source": [
    "# def fit_model2(estimator, param_grid, features_train, target_train, features_test, target_test):\n",
    "#     '''\n",
    "#     функция для тренировки моделей и подбора гиперпараметров методом GridSearchCV\n",
    "#     '''\n",
    "#     model = GridSearchCV(estimator=estimator,\n",
    "#                          param_grid=param_grid,\n",
    "#                          n_jobs=-1,\n",
    "#                          cv=time_cv,\n",
    "#                          verbose=False,\n",
    "#                          scoring='neg_root_mean_squared_error'\n",
    "#                          )\n",
    "\n",
    "#     start_time = time()\n",
    "#     model.fit(features_train, target_train)\n",
    "#     end_time = time()\n",
    "#     training_time = end_time - start_time\n",
    "\n",
    "#     best_rmse = root_mean_squared_error(model.best_score_, 1)\n",
    "\n",
    "#     print(f'Best RMSE: {best_rmse}')\n",
    "#     print(f'Best params: {model.best_params_}')\n",
    "\n",
    "#     best_model = estimator.set_params(**model.best_params_)\n",
    "\n",
    "#     start_time = time()\n",
    "#     best_model.fit(features_train, target_train)\n",
    "#     end_time = time()\n",
    "#     prediction_time = end_time - start_time\n",
    "\n",
    "#     predictions_train = best_model.predict(features_train)\n",
    "#     train_rmse = root_mean_squared_error(target_train, predictions_train)\n",
    "# #     train_rmse = mse(target_train, predictions_train, squared=False)\n",
    "\n",
    "#     return best_model, best_rmse, training_time, prediction_time, train_rmse"
   ]
  },
  {
   "cell_type": "markdown",
   "id": "4b866cf7",
   "metadata": {},
   "source": [
    "<img src=\"https://emojigraph.org/media/apple/check-mark-button_2705.png\" align=left width=33, heigth=33>\n",
    "<div class=\"alert alert-success\">\n",
    "Хочу похвалить за 'neg_root_mean_squared_error' и  TimeSeriesSplit</div>"
   ]
  },
  {
   "cell_type": "markdown",
   "id": "1c8db2b2",
   "metadata": {},
   "source": [
    "<div class=\"alert alert-info\"  >\n",
    "    \n",
    "<h2>Комментарий студента_rev_1: <a class=\"tocSkip\"> </h2>\n",
    "Спасибо)) Еще видел что в sklearn.metrics есть root_mean_squared_error, но почему то с ним функция падает(("
   ]
  },
  {
   "cell_type": "markdown",
   "id": "a62f7c99",
   "metadata": {},
   "source": [
    "<img src=\"https://emojigraph.org/media/apple/check-mark-button_2705.png\" align=left width=33, heigth=33>\n",
    "<div class=\"alert alert-success\">\n",
    "    <b>v2</b> нам нужен именно neg потому что для нашей метрики  \"чем меньше тем лучше\"  </div>"
   ]
  },
  {
   "cell_type": "markdown",
   "id": "e028b518",
   "metadata": {},
   "source": [
    "<img src=\"https://upload.wikimedia.org/wikipedia/commons/b/ba/Warning_sign_4.0.png\" align=left width=44, heigth=33>\n",
    "<div class=\"alert alert-warning\">\n",
    "На мой взгляд ты зря выводишь две метрики: метрику полученную с помощью кросс-валидации и метрику, полученную на обучающей выборке. Это ведет к неоднозначности и возможной путаннцице.\n",
    "    \n",
    "    \n",
    "Сразу подсвечу, для выбора лучшей модели мы можем использовать ТОЛЬКО метрику полученную на данных, которые модель не видела в процессе обучения, в данном случае это метрика, полученная на кросс-валидации.\n",
    "    \n",
    "Использовать обучающую выборку для оценки модели - это неверно. Если следовать этой стратегии, мы выберем ту модель, которая сумела лучше зазубрить правильные ответы (переобучиться на обучающую выборку), но не ту модель, которая умеет лучше предсказывать на новых данных.\n",
    "\n",
    "</div>"
   ]
  },
  {
   "cell_type": "markdown",
   "id": "0afc7de1",
   "metadata": {},
   "source": [
    "<div class=\"alert alert-info\"  >\n",
    "    \n",
    "<h2>Комментарий студента_rev_1: <a class=\"tocSkip\"> </h2>\n",
    "Т.е. метрику \"RMSE Train\" мы не используем совсем? убрал пока ее из вывода"
   ]
  },
  {
   "cell_type": "markdown",
   "id": "ffbb844b",
   "metadata": {},
   "source": [
    "<img src=\"https://emojigraph.org/media/apple/check-mark-button_2705.png\" align=left width=33, heigth=33>\n",
    "<div class=\"alert alert-success\">\n",
    "    <b>v2</b> Потому что в аргумент scoring нужно передать объект типа scorer. Ты можешь создать его сам (напнимер с помощью функции make_scorer или использовать имя стандартого scorer из библиотеки sklearn, что ты сейчас и делаешь. </div>"
   ]
  },
  {
   "cell_type": "code",
   "execution_count": 25,
   "id": "afd298a7",
   "metadata": {},
   "outputs": [],
   "source": [
    "# датафрейм для сохранения и сравнения результатов работы моделей\n",
    "results_df = pd.DataFrame(columns=['Model', 'Best RMSE', 'Training Time', 'Prediction Time'])"
   ]
  },
  {
   "cell_type": "markdown",
   "id": "6ee97a62",
   "metadata": {},
   "source": [
    "#### Линейная регрессия"
   ]
  },
  {
   "cell_type": "markdown",
   "id": "358ddaa8",
   "metadata": {},
   "source": [
    "lr_model = LinearRegression()"
   ]
  },
  {
   "cell_type": "code",
   "execution_count": 26,
   "id": "1ea59285",
   "metadata": {
    "scrolled": false
   },
   "outputs": [
    {
     "name": "stdout",
     "output_type": "stream",
     "text": [
      "Best RMSE: 27.1\n",
      "Best params: {'fit_intercept': False}\n"
     ]
    },
    {
     "data": {
      "text/html": [
       "<div>\n",
       "<style scoped>\n",
       "    .dataframe tbody tr th:only-of-type {\n",
       "        vertical-align: middle;\n",
       "    }\n",
       "\n",
       "    .dataframe tbody tr th {\n",
       "        vertical-align: top;\n",
       "    }\n",
       "\n",
       "    .dataframe thead th {\n",
       "        text-align: right;\n",
       "    }\n",
       "</style>\n",
       "<table border=\"1\" class=\"dataframe\">\n",
       "  <thead>\n",
       "    <tr style=\"text-align: right;\">\n",
       "      <th></th>\n",
       "      <th>Model</th>\n",
       "      <th>Best RMSE</th>\n",
       "      <th>Training Time</th>\n",
       "      <th>Prediction Time</th>\n",
       "    </tr>\n",
       "  </thead>\n",
       "  <tbody>\n",
       "    <tr>\n",
       "      <th>0</th>\n",
       "      <td>LinearRegression</td>\n",
       "      <td>27.1</td>\n",
       "      <td>4.799938</td>\n",
       "      <td>0.088437</td>\n",
       "    </tr>\n",
       "  </tbody>\n",
       "</table>\n",
       "</div>"
      ],
      "text/plain": [
       "              Model  Best RMSE  Training Time  Prediction Time\n",
       "0  LinearRegression       27.1       4.799938         0.088437"
      ]
     },
     "execution_count": 26,
     "metadata": {},
     "output_type": "execute_result"
    }
   ],
   "source": [
    "best_model, best_rmse, training_time, \\\n",
    "prediction_time, train_rmse_LR = fit_model(LinearRegression(), \n",
    "            [{'fit_intercept': [True, False]},\n",
    "             {'copy_X': [True, False]}, {'n_jobs': [1, -1]}], \n",
    "            features_train,\n",
    "            target_train,\n",
    "            features_test,\n",
    "            target_test, -1)\n",
    "\n",
    "best_model_lr=best_model\n",
    "\n",
    "results_df.loc[0] = ['LinearRegression', best_rmse, training_time, prediction_time]\n",
    "results_df.sort_values('Best RMSE', ascending=True)\n",
    "# results_df.sort_values('RMSE Train', ascending=True)"
   ]
  },
  {
   "cell_type": "code",
   "execution_count": 27,
   "id": "c9dc119b",
   "metadata": {},
   "outputs": [],
   "source": [
    "# best_model2, best_rmse2, training_time2, \\\n",
    "# prediction_time2, train_rmse_LR2 = fit_model2(LinearRegression(), \n",
    "#             [{'fit_intercept': [True, False]},\n",
    "#              {'copy_X': [True, False]}, {'n_jobs': [1, -1]}], \n",
    "#             features_train,\n",
    "#             target_train,\n",
    "#             features_test,\n",
    "#             target_test)\n",
    "\n",
    "# best_model_lr2=best_model2\n",
    "\n",
    "# results_df.loc[0] = ['LinearRegression', best_rmse2, training_time2, prediction_time2, train_rmse_LR2]\n",
    "# results_df.sort_values('RMSE Train', ascending=True)"
   ]
  },
  {
   "cell_type": "markdown",
   "id": "025b40a9",
   "metadata": {},
   "source": [
    "<img src=\"https://upload.wikimedia.org/wikipedia/commons/b/ba/Warning_sign_4.0.png\" align=left width=44, heigth=33>\n",
    "<div class=\"alert alert-warning\">\n",
    "Метрика линейной регрессии на кросс-валидации показывает просто неадекватный результат.  Я попробовал перезапустить твой код с корректными признаками и все стало адекватно.\n",
    "    \n",
    "Думаю причина такой завышенной метрики в следующем:\n",
    "    \n",
    " - сложные признаки (мультиколлинеарность?)\n",
    " - склонность линейной модели к переобучению\n",
    "    \n",
    "В качестве \"лекарства\" можно использовать \"родственников\" линейной регрессии с регуляризацией (Lasso/Ridge)\n",
    "    \n",
    "    \n",
    "\n",
    "</div>"
   ]
  },
  {
   "cell_type": "markdown",
   "id": "88e3255e",
   "metadata": {},
   "source": [
    "<img src=\"https://upload.wikimedia.org/wikipedia/commons/thumb/8/81/Stop_sign.png/240px-Stop_sign.png\" align=left width=35, heigth=35>\n",
    "<div class=\"alert alert-danger\">\n",
    "Пожалуйста не забывай, что перед испльзованием линейных моделей нужно масштабировать признаки.  Самым корректным вариантом будет использовать пайплайн из StandartScaller и LinearRegression. \n",
    "</div>"
   ]
  },
  {
   "cell_type": "markdown",
   "id": "08ad144d",
   "metadata": {},
   "source": [
    "<div class=\"alert alert-info\"  >\n",
    "    \n",
    "<h2>Комментарий студента_rev_1: <a class=\"tocSkip\"> </h2>\n",
    "Вот тут не совсем понимаю смысл их масштабироать, т.к. по факту мы все признаки получаем из единственного столбца с данными. Если прям реально надо делать масштабирование то не проще тогда исключить линейную регрессию из исследования?)"
   ]
  },
  {
   "cell_type": "markdown",
   "id": "af5b79a6",
   "metadata": {},
   "source": [
    "<img src=\"https://upload.wikimedia.org/wikipedia/commons/thumb/8/81/Stop_sign.png/240px-Stop_sign.png\" align=left width=35, heigth=35>\n",
    "<div class=\"alert alert-danger\">\n",
    "<b>v2</b>    \n",
    "Я настаиваю на необходимости масштабировать данные перед использванием линейной модели.    \n",
    "    \n",
    "Да, скльзящее среднее и отстающие значения имеют один масштаб. Но ведь у тебя есть календарные признаки, которые меняются в диапазоне 0-6 для дня недели или 0-23 для часа. А поездки у нас измеряются сотнями.\n",
    "    \n",
    "    \n",
    "-----------------------\n",
    "    \n",
    "Наверное выходом может быть отказ от календарных признаков, но это уже игра в \"формализм\".    \n",
    "    \n",
    "    \n",
    "-----------------------\n",
    "    \n",
    "Отказываться от линейной модели по причине \"не хочу делать масштабирование\" это не лучшее решение. Поэтому что у каждой модели есть свои плюсы и свои минусы. Так линейные модели могут хорошо продолжать тренд, в отличие от моделей на основе деревьев. Зато бустинги хорошо  находят сложные паттерны. Поэтому стоит перебирать разные модели (или даже использовать их ансамбли или композиции). Так достаточно распространенный трюк - это вначале обучить линейную регрессию хорошо предсказывать данные, а на остатках обучить градиентный бустинг.    \n",
    "</div>"
   ]
  },
  {
   "cell_type": "markdown",
   "id": "8b2feca9",
   "metadata": {},
   "source": [
    "<div class=\"alert alert-info\"  >\n",
    "    \n",
    "<h2>Комментарий студента_rev_1: <a class=\"tocSkip\"> </h2>\n",
    "Всё-таки с пайпами так и не совладал(("
   ]
  },
  {
   "cell_type": "markdown",
   "id": "1607b8b3",
   "metadata": {},
   "source": [
    "<img src=\"https://emojigraph.org/media/apple/check-mark-button_2705.png\" align=left width=33, heigth=33>\n",
    "<div class=\"alert alert-success\">\n",
    "    <b>v3</b> с пайплайном было бы лучше, но ОК </div>"
   ]
  },
  {
   "cell_type": "markdown",
   "id": "2090375a",
   "metadata": {},
   "source": [
    "### Линейная регрессия в.2"
   ]
  },
  {
   "cell_type": "code",
   "execution_count": 28,
   "id": "c3e9fb54",
   "metadata": {},
   "outputs": [],
   "source": [
    "scaler = StandardScaler()\n",
    "\n",
    "features_train_scaled = scaler.fit_transform(features_train)\n",
    "\n"
   ]
  },
  {
   "cell_type": "code",
   "execution_count": 29,
   "id": "1ff31b1e",
   "metadata": {},
   "outputs": [
    {
     "name": "stdout",
     "output_type": "stream",
     "text": [
      "Best RMSE: 27.2\n",
      "Best params: {'fit_intercept': True}\n"
     ]
    },
    {
     "data": {
      "text/html": [
       "<div>\n",
       "<style scoped>\n",
       "    .dataframe tbody tr th:only-of-type {\n",
       "        vertical-align: middle;\n",
       "    }\n",
       "\n",
       "    .dataframe tbody tr th {\n",
       "        vertical-align: top;\n",
       "    }\n",
       "\n",
       "    .dataframe thead th {\n",
       "        text-align: right;\n",
       "    }\n",
       "</style>\n",
       "<table border=\"1\" class=\"dataframe\">\n",
       "  <thead>\n",
       "    <tr style=\"text-align: right;\">\n",
       "      <th></th>\n",
       "      <th>Model</th>\n",
       "      <th>Best RMSE</th>\n",
       "      <th>Training Time</th>\n",
       "      <th>Prediction Time</th>\n",
       "    </tr>\n",
       "  </thead>\n",
       "  <tbody>\n",
       "    <tr>\n",
       "      <th>0</th>\n",
       "      <td>LinearRegression</td>\n",
       "      <td>27.2</td>\n",
       "      <td>3.638176</td>\n",
       "      <td>0.005843</td>\n",
       "    </tr>\n",
       "  </tbody>\n",
       "</table>\n",
       "</div>"
      ],
      "text/plain": [
       "              Model  Best RMSE  Training Time  Prediction Time\n",
       "0  LinearRegression       27.2       3.638176         0.005843"
      ]
     },
     "execution_count": 29,
     "metadata": {},
     "output_type": "execute_result"
    }
   ],
   "source": [
    "best_model, best_rmse, training_time, \\\n",
    "prediction_time, train_rmse_LR = fit_model(LinearRegression(), \n",
    "            [{'fit_intercept': [True, False]},\n",
    "             {'copy_X': [True, False]}, {'n_jobs': [1, -1]}], \n",
    "            features_train_scaled,\n",
    "            target_train,\n",
    "            features_test,\n",
    "            target_test, -1)\n",
    "\n",
    "best_model_lr=best_model\n",
    "\n",
    "results_df.loc[0] = ['LinearRegression', best_rmse, training_time, prediction_time]\n",
    "results_df.sort_values('Best RMSE', ascending=True)\n",
    "# results_df.sort_values('RMSE Train', ascending=True)"
   ]
  },
  {
   "cell_type": "markdown",
   "id": "fbefecf8",
   "metadata": {},
   "source": [
    "<img src=\"https://upload.wikimedia.org/wikipedia/commons/b/ba/Warning_sign_4.0.png\" align=left width=44, heigth=33>\n",
    "<div class=\"alert alert-warning\">\n",
    "Советую различать параметры, которые отвечают за процесс обучения, но не влияют на итоговый результат когда модель обучена.\n",
    "    \n",
    "К таким параметрам относится n_jobs - это количество процессорных ядер которые выделяются для обучения.  Нет смысла перебирать этот параметр, установи тот, что нужен/важен для процесса обучения.\n",
    "    \n",
    "\n",
    "</div>"
   ]
  },
  {
   "cell_type": "markdown",
   "id": "14c60c0e",
   "metadata": {},
   "source": [
    "<div class=\"alert alert-info\"  >\n",
    "    \n",
    "<h2>Комментарий студента_rev_1: <a class=\"tocSkip\"> </h2>\n",
    "Добавил n_jobs в аргументы функции fit_model"
   ]
  },
  {
   "cell_type": "code",
   "execution_count": null,
   "id": "71510362",
   "metadata": {},
   "outputs": [],
   "source": []
  },
  {
   "cell_type": "markdown",
   "id": "3bdaaf65",
   "metadata": {},
   "source": [
    "#### DecisionTreeRegressor"
   ]
  },
  {
   "cell_type": "code",
   "execution_count": 30,
   "id": "172b7461",
   "metadata": {
    "scrolled": false
   },
   "outputs": [
    {
     "name": "stdout",
     "output_type": "stream",
     "text": [
      "Best RMSE: 30.3\n",
      "Best params: {'max_depth': 5}\n"
     ]
    },
    {
     "data": {
      "text/html": [
       "<div>\n",
       "<style scoped>\n",
       "    .dataframe tbody tr th:only-of-type {\n",
       "        vertical-align: middle;\n",
       "    }\n",
       "\n",
       "    .dataframe tbody tr th {\n",
       "        vertical-align: top;\n",
       "    }\n",
       "\n",
       "    .dataframe thead th {\n",
       "        text-align: right;\n",
       "    }\n",
       "</style>\n",
       "<table border=\"1\" class=\"dataframe\">\n",
       "  <thead>\n",
       "    <tr style=\"text-align: right;\">\n",
       "      <th></th>\n",
       "      <th>Model</th>\n",
       "      <th>Best RMSE</th>\n",
       "      <th>Training Time</th>\n",
       "      <th>Prediction Time</th>\n",
       "    </tr>\n",
       "  </thead>\n",
       "  <tbody>\n",
       "    <tr>\n",
       "      <th>0</th>\n",
       "      <td>LinearRegression</td>\n",
       "      <td>27.2</td>\n",
       "      <td>3.638176</td>\n",
       "      <td>0.005843</td>\n",
       "    </tr>\n",
       "    <tr>\n",
       "      <th>1</th>\n",
       "      <td>DecisionTreeRegressor</td>\n",
       "      <td>30.3</td>\n",
       "      <td>0.688878</td>\n",
       "      <td>0.035663</td>\n",
       "    </tr>\n",
       "  </tbody>\n",
       "</table>\n",
       "</div>"
      ],
      "text/plain": [
       "                   Model  Best RMSE  Training Time  Prediction Time\n",
       "0       LinearRegression       27.2       3.638176         0.005843\n",
       "1  DecisionTreeRegressor       30.3       0.688878         0.035663"
      ]
     },
     "execution_count": 30,
     "metadata": {},
     "output_type": "execute_result"
    }
   ],
   "source": [
    "best_model, best_rmse, training_time, prediction_time, train_rmse_DTR = fit_model(\n",
    "    DecisionTreeRegressor(random_state=RANDOM_STATE),\n",
    "    {'max_depth': range(1, 11, 2)},\n",
    "    features_train,\n",
    "    target_train,\n",
    "    features_test,\n",
    "    target_test,\n",
    "-1)\n",
    "\n",
    "best_model_dtr=best_model\n",
    "\n",
    "results_df.loc[1] = ['DecisionTreeRegressor', best_rmse, training_time, prediction_time]\n",
    "results_df.sort_values('Best RMSE', ascending=True)\n",
    "# results_df.sort_values('RMSE Train', ascending=True)"
   ]
  },
  {
   "cell_type": "markdown",
   "id": "935d6dd0",
   "metadata": {},
   "source": [
    "#### RandomForestRegressor"
   ]
  },
  {
   "cell_type": "code",
   "execution_count": 31,
   "id": "69401488",
   "metadata": {
    "scrolled": true
   },
   "outputs": [
    {
     "name": "stdout",
     "output_type": "stream",
     "text": [
      "Best RMSE: 26.2\n",
      "Best params: {'max_depth': 9, 'n_estimators': 70}\n"
     ]
    },
    {
     "data": {
      "text/html": [
       "<div>\n",
       "<style scoped>\n",
       "    .dataframe tbody tr th:only-of-type {\n",
       "        vertical-align: middle;\n",
       "    }\n",
       "\n",
       "    .dataframe tbody tr th {\n",
       "        vertical-align: top;\n",
       "    }\n",
       "\n",
       "    .dataframe thead th {\n",
       "        text-align: right;\n",
       "    }\n",
       "</style>\n",
       "<table border=\"1\" class=\"dataframe\">\n",
       "  <thead>\n",
       "    <tr style=\"text-align: right;\">\n",
       "      <th></th>\n",
       "      <th>Model</th>\n",
       "      <th>Best RMSE</th>\n",
       "      <th>Training Time</th>\n",
       "      <th>Prediction Time</th>\n",
       "    </tr>\n",
       "  </thead>\n",
       "  <tbody>\n",
       "    <tr>\n",
       "      <th>2</th>\n",
       "      <td>RandomForestRegressor</td>\n",
       "      <td>26.2</td>\n",
       "      <td>113.425245</td>\n",
       "      <td>2.931903</td>\n",
       "    </tr>\n",
       "    <tr>\n",
       "      <th>0</th>\n",
       "      <td>LinearRegression</td>\n",
       "      <td>27.2</td>\n",
       "      <td>3.638176</td>\n",
       "      <td>0.005843</td>\n",
       "    </tr>\n",
       "    <tr>\n",
       "      <th>1</th>\n",
       "      <td>DecisionTreeRegressor</td>\n",
       "      <td>30.3</td>\n",
       "      <td>0.688878</td>\n",
       "      <td>0.035663</td>\n",
       "    </tr>\n",
       "  </tbody>\n",
       "</table>\n",
       "</div>"
      ],
      "text/plain": [
       "                   Model  Best RMSE  Training Time  Prediction Time\n",
       "2  RandomForestRegressor       26.2     113.425245         2.931903\n",
       "0       LinearRegression       27.2       3.638176         0.005843\n",
       "1  DecisionTreeRegressor       30.3       0.688878         0.035663"
      ]
     },
     "execution_count": 31,
     "metadata": {},
     "output_type": "execute_result"
    }
   ],
   "source": [
    "best_model, best_rmse, training_time, \\\n",
    "prediction_time, train_rmse_RFR = fit_model(RandomForestRegressor(random_state=RANDOM_STATE), \n",
    "            {'n_estimators': range(50, 100, 10), 'max_depth': range(1, 11, 2)}, \n",
    "            features_train,\n",
    "            target_train,\n",
    "            features_test,\n",
    "            target_test, -1)\n",
    "\n",
    "best_model_rfr=best_model\n",
    "\n",
    "results_df.loc[2] = ['RandomForestRegressor', best_rmse, training_time, prediction_time]\n",
    "\n",
    "results_df.sort_values('Best RMSE', ascending=True)\n",
    "# results_df.sort_values('RMSE Train', ascending=True)"
   ]
  },
  {
   "cell_type": "markdown",
   "id": "43558ef7",
   "metadata": {},
   "source": [
    "#### LightGBM"
   ]
  },
  {
   "cell_type": "code",
   "execution_count": 32,
   "id": "d6407ba5",
   "metadata": {
    "scrolled": true
   },
   "outputs": [
    {
     "name": "stdout",
     "output_type": "stream",
     "text": [
      "Best RMSE: 25.6\n",
      "Best params: {'max_depth': 5, 'n_estimators': 90}\n"
     ]
    },
    {
     "data": {
      "text/html": [
       "<div>\n",
       "<style scoped>\n",
       "    .dataframe tbody tr th:only-of-type {\n",
       "        vertical-align: middle;\n",
       "    }\n",
       "\n",
       "    .dataframe tbody tr th {\n",
       "        vertical-align: top;\n",
       "    }\n",
       "\n",
       "    .dataframe thead th {\n",
       "        text-align: right;\n",
       "    }\n",
       "</style>\n",
       "<table border=\"1\" class=\"dataframe\">\n",
       "  <thead>\n",
       "    <tr style=\"text-align: right;\">\n",
       "      <th></th>\n",
       "      <th>Model</th>\n",
       "      <th>Best RMSE</th>\n",
       "      <th>Training Time</th>\n",
       "      <th>Prediction Time</th>\n",
       "    </tr>\n",
       "  </thead>\n",
       "  <tbody>\n",
       "    <tr>\n",
       "      <th>3</th>\n",
       "      <td>LGBMRegressor</td>\n",
       "      <td>25.6</td>\n",
       "      <td>212.158488</td>\n",
       "      <td>1.495171</td>\n",
       "    </tr>\n",
       "    <tr>\n",
       "      <th>2</th>\n",
       "      <td>RandomForestRegressor</td>\n",
       "      <td>26.2</td>\n",
       "      <td>113.425245</td>\n",
       "      <td>2.931903</td>\n",
       "    </tr>\n",
       "    <tr>\n",
       "      <th>0</th>\n",
       "      <td>LinearRegression</td>\n",
       "      <td>27.2</td>\n",
       "      <td>3.638176</td>\n",
       "      <td>0.005843</td>\n",
       "    </tr>\n",
       "    <tr>\n",
       "      <th>1</th>\n",
       "      <td>DecisionTreeRegressor</td>\n",
       "      <td>30.3</td>\n",
       "      <td>0.688878</td>\n",
       "      <td>0.035663</td>\n",
       "    </tr>\n",
       "  </tbody>\n",
       "</table>\n",
       "</div>"
      ],
      "text/plain": [
       "                   Model  Best RMSE  Training Time  Prediction Time\n",
       "3          LGBMRegressor       25.6     212.158488         1.495171\n",
       "2  RandomForestRegressor       26.2     113.425245         2.931903\n",
       "0       LinearRegression       27.2       3.638176         0.005843\n",
       "1  DecisionTreeRegressor       30.3       0.688878         0.035663"
      ]
     },
     "execution_count": 32,
     "metadata": {},
     "output_type": "execute_result"
    }
   ],
   "source": [
    "best_model, best_rmse, training_time, \\\n",
    "prediction_time, train_rmse_lgb = fit_model(LGBMRegressor(random_state=RANDOM_STATE), \n",
    "            {'n_estimators': range(50, 100, 10),\n",
    "             'max_depth': range(1, 11, 2)}, \n",
    "            features_train,\n",
    "            target_train,\n",
    "            features_test,\n",
    "            target_test, 1)\n",
    "\n",
    "best_model_lgb=best_model\n",
    "\n",
    "results_df.loc[3] = ['LGBMRegressor', best_rmse, training_time, prediction_time]\n",
    "\n",
    "results_df.sort_values('Best RMSE', ascending=True)\n",
    "# results_df.sort_values('RMSE Train', ascending=True)"
   ]
  },
  {
   "cell_type": "markdown",
   "id": "61df9c4a",
   "metadata": {},
   "source": [
    "<img src=\"https://upload.wikimedia.org/wikipedia/commons/b/ba/Warning_sign_4.0.png\" align=left width=44, heigth=33>\n",
    "<div class=\"alert alert-warning\">\n",
    "    \n",
    "Если во время поиска по сетке  установить n_jobs=-1, то в случае LGBMRegressor обучение модели резко замедляется. Причина в том, что по умолчанию LGBMRegressor уже использует все свободные процессорные ядра. А ты дополнительно распараллеливаешь обучение  RandomizedSearchCV на количество процессорных ядер. Получается что задач больше чем свободных ядер и процессора постоянно переключаются между задачами пытаясь выполнить их параллельно. Если привести аналогию с движением по трассе, получается затор, когда много машин (процесов) пытаются проехат по огрнаниченному количеству полос (процессорных ядер), постоянно вклиниваясь и мешая друг другу.  Получается \"пробка\" и скорость резко падает. Машина больше времени тратит на переключение между процессами, чем на собственно вычисления.   \n",
    "        \n",
    "    \n",
    "Советую установить параметр n_jobs=1 у  LGBMRegressor ИЛИ RandomizedSearchCV. Тогда каждый процесс будет выполняться на своем процесорном ядре (проводя аналогию с машинами, каждая будет двигаться по своей полосе с максимальной скоростью и общая скорость потока будет максимальной).   \n",
    "</div>"
   ]
  },
  {
   "cell_type": "markdown",
   "id": "eabd3aa2",
   "metadata": {},
   "source": [
    "<div class=\"alert alert-info\"  >\n",
    "    \n",
    "<h2>Комментарий студента_rev_1: <a class=\"tocSkip\"> </h2>\n",
    "Добавил n_jobs в аргументы функции fit_model"
   ]
  },
  {
   "cell_type": "markdown",
   "id": "f06fb472",
   "metadata": {},
   "source": [
    "<img src=\"https://upload.wikimedia.org/wikipedia/commons/b/ba/Warning_sign_4.0.png\" align=left width=44, heigth=33>\n",
    "<div class=\"alert alert-warning\">\n",
    " <b>v2</b>  \n",
    "К сожалению я не смог найти.\n",
    "</div>"
   ]
  },
  {
   "cell_type": "code",
   "execution_count": 33,
   "id": "dbe4976a",
   "metadata": {},
   "outputs": [
    {
     "data": {
      "text/html": [
       "<style>#sk-container-id-1 {\n",
       "  /* Definition of color scheme common for light and dark mode */\n",
       "  --sklearn-color-text: black;\n",
       "  --sklearn-color-line: gray;\n",
       "  /* Definition of color scheme for unfitted estimators */\n",
       "  --sklearn-color-unfitted-level-0: #fff5e6;\n",
       "  --sklearn-color-unfitted-level-1: #f6e4d2;\n",
       "  --sklearn-color-unfitted-level-2: #ffe0b3;\n",
       "  --sklearn-color-unfitted-level-3: chocolate;\n",
       "  /* Definition of color scheme for fitted estimators */\n",
       "  --sklearn-color-fitted-level-0: #f0f8ff;\n",
       "  --sklearn-color-fitted-level-1: #d4ebff;\n",
       "  --sklearn-color-fitted-level-2: #b3dbfd;\n",
       "  --sklearn-color-fitted-level-3: cornflowerblue;\n",
       "\n",
       "  /* Specific color for light theme */\n",
       "  --sklearn-color-text-on-default-background: var(--sg-text-color, var(--theme-code-foreground, var(--jp-content-font-color1, black)));\n",
       "  --sklearn-color-background: var(--sg-background-color, var(--theme-background, var(--jp-layout-color0, white)));\n",
       "  --sklearn-color-border-box: var(--sg-text-color, var(--theme-code-foreground, var(--jp-content-font-color1, black)));\n",
       "  --sklearn-color-icon: #696969;\n",
       "\n",
       "  @media (prefers-color-scheme: dark) {\n",
       "    /* Redefinition of color scheme for dark theme */\n",
       "    --sklearn-color-text-on-default-background: var(--sg-text-color, var(--theme-code-foreground, var(--jp-content-font-color1, white)));\n",
       "    --sklearn-color-background: var(--sg-background-color, var(--theme-background, var(--jp-layout-color0, #111)));\n",
       "    --sklearn-color-border-box: var(--sg-text-color, var(--theme-code-foreground, var(--jp-content-font-color1, white)));\n",
       "    --sklearn-color-icon: #878787;\n",
       "  }\n",
       "}\n",
       "\n",
       "#sk-container-id-1 {\n",
       "  color: var(--sklearn-color-text);\n",
       "}\n",
       "\n",
       "#sk-container-id-1 pre {\n",
       "  padding: 0;\n",
       "}\n",
       "\n",
       "#sk-container-id-1 input.sk-hidden--visually {\n",
       "  border: 0;\n",
       "  clip: rect(1px 1px 1px 1px);\n",
       "  clip: rect(1px, 1px, 1px, 1px);\n",
       "  height: 1px;\n",
       "  margin: -1px;\n",
       "  overflow: hidden;\n",
       "  padding: 0;\n",
       "  position: absolute;\n",
       "  width: 1px;\n",
       "}\n",
       "\n",
       "#sk-container-id-1 div.sk-dashed-wrapped {\n",
       "  border: 1px dashed var(--sklearn-color-line);\n",
       "  margin: 0 0.4em 0.5em 0.4em;\n",
       "  box-sizing: border-box;\n",
       "  padding-bottom: 0.4em;\n",
       "  background-color: var(--sklearn-color-background);\n",
       "}\n",
       "\n",
       "#sk-container-id-1 div.sk-container {\n",
       "  /* jupyter's `normalize.less` sets `[hidden] { display: none; }`\n",
       "     but bootstrap.min.css set `[hidden] { display: none !important; }`\n",
       "     so we also need the `!important` here to be able to override the\n",
       "     default hidden behavior on the sphinx rendered scikit-learn.org.\n",
       "     See: https://github.com/scikit-learn/scikit-learn/issues/21755 */\n",
       "  display: inline-block !important;\n",
       "  position: relative;\n",
       "}\n",
       "\n",
       "#sk-container-id-1 div.sk-text-repr-fallback {\n",
       "  display: none;\n",
       "}\n",
       "\n",
       "div.sk-parallel-item,\n",
       "div.sk-serial,\n",
       "div.sk-item {\n",
       "  /* draw centered vertical line to link estimators */\n",
       "  background-image: linear-gradient(var(--sklearn-color-text-on-default-background), var(--sklearn-color-text-on-default-background));\n",
       "  background-size: 2px 100%;\n",
       "  background-repeat: no-repeat;\n",
       "  background-position: center center;\n",
       "}\n",
       "\n",
       "/* Parallel-specific style estimator block */\n",
       "\n",
       "#sk-container-id-1 div.sk-parallel-item::after {\n",
       "  content: \"\";\n",
       "  width: 100%;\n",
       "  border-bottom: 2px solid var(--sklearn-color-text-on-default-background);\n",
       "  flex-grow: 1;\n",
       "}\n",
       "\n",
       "#sk-container-id-1 div.sk-parallel {\n",
       "  display: flex;\n",
       "  align-items: stretch;\n",
       "  justify-content: center;\n",
       "  background-color: var(--sklearn-color-background);\n",
       "  position: relative;\n",
       "}\n",
       "\n",
       "#sk-container-id-1 div.sk-parallel-item {\n",
       "  display: flex;\n",
       "  flex-direction: column;\n",
       "}\n",
       "\n",
       "#sk-container-id-1 div.sk-parallel-item:first-child::after {\n",
       "  align-self: flex-end;\n",
       "  width: 50%;\n",
       "}\n",
       "\n",
       "#sk-container-id-1 div.sk-parallel-item:last-child::after {\n",
       "  align-self: flex-start;\n",
       "  width: 50%;\n",
       "}\n",
       "\n",
       "#sk-container-id-1 div.sk-parallel-item:only-child::after {\n",
       "  width: 0;\n",
       "}\n",
       "\n",
       "/* Serial-specific style estimator block */\n",
       "\n",
       "#sk-container-id-1 div.sk-serial {\n",
       "  display: flex;\n",
       "  flex-direction: column;\n",
       "  align-items: center;\n",
       "  background-color: var(--sklearn-color-background);\n",
       "  padding-right: 1em;\n",
       "  padding-left: 1em;\n",
       "}\n",
       "\n",
       "\n",
       "/* Toggleable style: style used for estimator/Pipeline/ColumnTransformer box that is\n",
       "clickable and can be expanded/collapsed.\n",
       "- Pipeline and ColumnTransformer use this feature and define the default style\n",
       "- Estimators will overwrite some part of the style using the `sk-estimator` class\n",
       "*/\n",
       "\n",
       "/* Pipeline and ColumnTransformer style (default) */\n",
       "\n",
       "#sk-container-id-1 div.sk-toggleable {\n",
       "  /* Default theme specific background. It is overwritten whether we have a\n",
       "  specific estimator or a Pipeline/ColumnTransformer */\n",
       "  background-color: var(--sklearn-color-background);\n",
       "}\n",
       "\n",
       "/* Toggleable label */\n",
       "#sk-container-id-1 label.sk-toggleable__label {\n",
       "  cursor: pointer;\n",
       "  display: block;\n",
       "  width: 100%;\n",
       "  margin-bottom: 0;\n",
       "  padding: 0.5em;\n",
       "  box-sizing: border-box;\n",
       "  text-align: center;\n",
       "}\n",
       "\n",
       "#sk-container-id-1 label.sk-toggleable__label-arrow:before {\n",
       "  /* Arrow on the left of the label */\n",
       "  content: \"▸\";\n",
       "  float: left;\n",
       "  margin-right: 0.25em;\n",
       "  color: var(--sklearn-color-icon);\n",
       "}\n",
       "\n",
       "#sk-container-id-1 label.sk-toggleable__label-arrow:hover:before {\n",
       "  color: var(--sklearn-color-text);\n",
       "}\n",
       "\n",
       "/* Toggleable content - dropdown */\n",
       "\n",
       "#sk-container-id-1 div.sk-toggleable__content {\n",
       "  max-height: 0;\n",
       "  max-width: 0;\n",
       "  overflow: hidden;\n",
       "  text-align: left;\n",
       "  /* unfitted */\n",
       "  background-color: var(--sklearn-color-unfitted-level-0);\n",
       "}\n",
       "\n",
       "#sk-container-id-1 div.sk-toggleable__content.fitted {\n",
       "  /* fitted */\n",
       "  background-color: var(--sklearn-color-fitted-level-0);\n",
       "}\n",
       "\n",
       "#sk-container-id-1 div.sk-toggleable__content pre {\n",
       "  margin: 0.2em;\n",
       "  border-radius: 0.25em;\n",
       "  color: var(--sklearn-color-text);\n",
       "  /* unfitted */\n",
       "  background-color: var(--sklearn-color-unfitted-level-0);\n",
       "}\n",
       "\n",
       "#sk-container-id-1 div.sk-toggleable__content.fitted pre {\n",
       "  /* unfitted */\n",
       "  background-color: var(--sklearn-color-fitted-level-0);\n",
       "}\n",
       "\n",
       "#sk-container-id-1 input.sk-toggleable__control:checked~div.sk-toggleable__content {\n",
       "  /* Expand drop-down */\n",
       "  max-height: 200px;\n",
       "  max-width: 100%;\n",
       "  overflow: auto;\n",
       "}\n",
       "\n",
       "#sk-container-id-1 input.sk-toggleable__control:checked~label.sk-toggleable__label-arrow:before {\n",
       "  content: \"▾\";\n",
       "}\n",
       "\n",
       "/* Pipeline/ColumnTransformer-specific style */\n",
       "\n",
       "#sk-container-id-1 div.sk-label input.sk-toggleable__control:checked~label.sk-toggleable__label {\n",
       "  color: var(--sklearn-color-text);\n",
       "  background-color: var(--sklearn-color-unfitted-level-2);\n",
       "}\n",
       "\n",
       "#sk-container-id-1 div.sk-label.fitted input.sk-toggleable__control:checked~label.sk-toggleable__label {\n",
       "  background-color: var(--sklearn-color-fitted-level-2);\n",
       "}\n",
       "\n",
       "/* Estimator-specific style */\n",
       "\n",
       "/* Colorize estimator box */\n",
       "#sk-container-id-1 div.sk-estimator input.sk-toggleable__control:checked~label.sk-toggleable__label {\n",
       "  /* unfitted */\n",
       "  background-color: var(--sklearn-color-unfitted-level-2);\n",
       "}\n",
       "\n",
       "#sk-container-id-1 div.sk-estimator.fitted input.sk-toggleable__control:checked~label.sk-toggleable__label {\n",
       "  /* fitted */\n",
       "  background-color: var(--sklearn-color-fitted-level-2);\n",
       "}\n",
       "\n",
       "#sk-container-id-1 div.sk-label label.sk-toggleable__label,\n",
       "#sk-container-id-1 div.sk-label label {\n",
       "  /* The background is the default theme color */\n",
       "  color: var(--sklearn-color-text-on-default-background);\n",
       "}\n",
       "\n",
       "/* On hover, darken the color of the background */\n",
       "#sk-container-id-1 div.sk-label:hover label.sk-toggleable__label {\n",
       "  color: var(--sklearn-color-text);\n",
       "  background-color: var(--sklearn-color-unfitted-level-2);\n",
       "}\n",
       "\n",
       "/* Label box, darken color on hover, fitted */\n",
       "#sk-container-id-1 div.sk-label.fitted:hover label.sk-toggleable__label.fitted {\n",
       "  color: var(--sklearn-color-text);\n",
       "  background-color: var(--sklearn-color-fitted-level-2);\n",
       "}\n",
       "\n",
       "/* Estimator label */\n",
       "\n",
       "#sk-container-id-1 div.sk-label label {\n",
       "  font-family: monospace;\n",
       "  font-weight: bold;\n",
       "  display: inline-block;\n",
       "  line-height: 1.2em;\n",
       "}\n",
       "\n",
       "#sk-container-id-1 div.sk-label-container {\n",
       "  text-align: center;\n",
       "}\n",
       "\n",
       "/* Estimator-specific */\n",
       "#sk-container-id-1 div.sk-estimator {\n",
       "  font-family: monospace;\n",
       "  border: 1px dotted var(--sklearn-color-border-box);\n",
       "  border-radius: 0.25em;\n",
       "  box-sizing: border-box;\n",
       "  margin-bottom: 0.5em;\n",
       "  /* unfitted */\n",
       "  background-color: var(--sklearn-color-unfitted-level-0);\n",
       "}\n",
       "\n",
       "#sk-container-id-1 div.sk-estimator.fitted {\n",
       "  /* fitted */\n",
       "  background-color: var(--sklearn-color-fitted-level-0);\n",
       "}\n",
       "\n",
       "/* on hover */\n",
       "#sk-container-id-1 div.sk-estimator:hover {\n",
       "  /* unfitted */\n",
       "  background-color: var(--sklearn-color-unfitted-level-2);\n",
       "}\n",
       "\n",
       "#sk-container-id-1 div.sk-estimator.fitted:hover {\n",
       "  /* fitted */\n",
       "  background-color: var(--sklearn-color-fitted-level-2);\n",
       "}\n",
       "\n",
       "/* Specification for estimator info (e.g. \"i\" and \"?\") */\n",
       "\n",
       "/* Common style for \"i\" and \"?\" */\n",
       "\n",
       ".sk-estimator-doc-link,\n",
       "a:link.sk-estimator-doc-link,\n",
       "a:visited.sk-estimator-doc-link {\n",
       "  float: right;\n",
       "  font-size: smaller;\n",
       "  line-height: 1em;\n",
       "  font-family: monospace;\n",
       "  background-color: var(--sklearn-color-background);\n",
       "  border-radius: 1em;\n",
       "  height: 1em;\n",
       "  width: 1em;\n",
       "  text-decoration: none !important;\n",
       "  margin-left: 1ex;\n",
       "  /* unfitted */\n",
       "  border: var(--sklearn-color-unfitted-level-1) 1pt solid;\n",
       "  color: var(--sklearn-color-unfitted-level-1);\n",
       "}\n",
       "\n",
       ".sk-estimator-doc-link.fitted,\n",
       "a:link.sk-estimator-doc-link.fitted,\n",
       "a:visited.sk-estimator-doc-link.fitted {\n",
       "  /* fitted */\n",
       "  border: var(--sklearn-color-fitted-level-1) 1pt solid;\n",
       "  color: var(--sklearn-color-fitted-level-1);\n",
       "}\n",
       "\n",
       "/* On hover */\n",
       "div.sk-estimator:hover .sk-estimator-doc-link:hover,\n",
       ".sk-estimator-doc-link:hover,\n",
       "div.sk-label-container:hover .sk-estimator-doc-link:hover,\n",
       ".sk-estimator-doc-link:hover {\n",
       "  /* unfitted */\n",
       "  background-color: var(--sklearn-color-unfitted-level-3);\n",
       "  color: var(--sklearn-color-background);\n",
       "  text-decoration: none;\n",
       "}\n",
       "\n",
       "div.sk-estimator.fitted:hover .sk-estimator-doc-link.fitted:hover,\n",
       ".sk-estimator-doc-link.fitted:hover,\n",
       "div.sk-label-container:hover .sk-estimator-doc-link.fitted:hover,\n",
       ".sk-estimator-doc-link.fitted:hover {\n",
       "  /* fitted */\n",
       "  background-color: var(--sklearn-color-fitted-level-3);\n",
       "  color: var(--sklearn-color-background);\n",
       "  text-decoration: none;\n",
       "}\n",
       "\n",
       "/* Span, style for the box shown on hovering the info icon */\n",
       ".sk-estimator-doc-link span {\n",
       "  display: none;\n",
       "  z-index: 9999;\n",
       "  position: relative;\n",
       "  font-weight: normal;\n",
       "  right: .2ex;\n",
       "  padding: .5ex;\n",
       "  margin: .5ex;\n",
       "  width: min-content;\n",
       "  min-width: 20ex;\n",
       "  max-width: 50ex;\n",
       "  color: var(--sklearn-color-text);\n",
       "  box-shadow: 2pt 2pt 4pt #999;\n",
       "  /* unfitted */\n",
       "  background: var(--sklearn-color-unfitted-level-0);\n",
       "  border: .5pt solid var(--sklearn-color-unfitted-level-3);\n",
       "}\n",
       "\n",
       ".sk-estimator-doc-link.fitted span {\n",
       "  /* fitted */\n",
       "  background: var(--sklearn-color-fitted-level-0);\n",
       "  border: var(--sklearn-color-fitted-level-3);\n",
       "}\n",
       "\n",
       ".sk-estimator-doc-link:hover span {\n",
       "  display: block;\n",
       "}\n",
       "\n",
       "/* \"?\"-specific style due to the `<a>` HTML tag */\n",
       "\n",
       "#sk-container-id-1 a.estimator_doc_link {\n",
       "  float: right;\n",
       "  font-size: 1rem;\n",
       "  line-height: 1em;\n",
       "  font-family: monospace;\n",
       "  background-color: var(--sklearn-color-background);\n",
       "  border-radius: 1rem;\n",
       "  height: 1rem;\n",
       "  width: 1rem;\n",
       "  text-decoration: none;\n",
       "  /* unfitted */\n",
       "  color: var(--sklearn-color-unfitted-level-1);\n",
       "  border: var(--sklearn-color-unfitted-level-1) 1pt solid;\n",
       "}\n",
       "\n",
       "#sk-container-id-1 a.estimator_doc_link.fitted {\n",
       "  /* fitted */\n",
       "  border: var(--sklearn-color-fitted-level-1) 1pt solid;\n",
       "  color: var(--sklearn-color-fitted-level-1);\n",
       "}\n",
       "\n",
       "/* On hover */\n",
       "#sk-container-id-1 a.estimator_doc_link:hover {\n",
       "  /* unfitted */\n",
       "  background-color: var(--sklearn-color-unfitted-level-3);\n",
       "  color: var(--sklearn-color-background);\n",
       "  text-decoration: none;\n",
       "}\n",
       "\n",
       "#sk-container-id-1 a.estimator_doc_link.fitted:hover {\n",
       "  /* fitted */\n",
       "  background-color: var(--sklearn-color-fitted-level-3);\n",
       "}\n",
       "</style><div id=\"sk-container-id-1\" class=\"sk-top-container\"><div class=\"sk-text-repr-fallback\"><pre>LGBMRegressor(max_depth=5, n_estimators=90, random_state=20240628)</pre><b>In a Jupyter environment, please rerun this cell to show the HTML representation or trust the notebook. <br />On GitHub, the HTML representation is unable to render, please try loading this page with nbviewer.org.</b></div><div class=\"sk-container\" hidden><div class=\"sk-item\"><div class=\"sk-estimator fitted sk-toggleable\"><input class=\"sk-toggleable__control sk-hidden--visually\" id=\"sk-estimator-id-1\" type=\"checkbox\" checked><label for=\"sk-estimator-id-1\" class=\"sk-toggleable__label fitted sk-toggleable__label-arrow fitted\">&nbsp;LGBMRegressor<span class=\"sk-estimator-doc-link fitted\">i<span>Fitted</span></span></label><div class=\"sk-toggleable__content fitted\"><pre>LGBMRegressor(max_depth=5, n_estimators=90, random_state=20240628)</pre></div> </div></div></div></div>"
      ],
      "text/plain": [
       "LGBMRegressor(max_depth=5, n_estimators=90, random_state=20240628)"
      ]
     },
     "execution_count": 33,
     "metadata": {},
     "output_type": "execute_result"
    }
   ],
   "source": [
    "best_model_lgb"
   ]
  },
  {
   "cell_type": "markdown",
   "id": "f20a38fe",
   "metadata": {},
   "source": [
    "#### Промежуточный вывод:\n",
    "\n",
    "Была проведена разбивка данных на выборки. Создана функция fit_model(), которая методом GridSearchCV подбирает наилучшую модели и выводит метрику RMSE и параметры лучшей модели. \n",
    "Были обучены 4 модели (DecisionTreeRegressor, RandomForestRegressor, LinearRegression, LGBMRegressor). \n",
    "Метрики RMSE, время обучения и предсказания для каждой из этих моделей собраны в виде таблицы.\n",
    "\n",
    "По результатам можно сделать вывод что лучшей моделью стала модель LGBMRegressor с Best RMSE на кросс-валидации = 25.6\n",
    "\n"
   ]
  },
  {
   "cell_type": "markdown",
   "id": "37b94d9b",
   "metadata": {},
   "source": [
    " <img src=\"https://upload.wikimedia.org/wikipedia/commons/thumb/8/81/Stop_sign.png/240px-Stop_sign.png\" align=left width=35, heigth=35>\n",
    " <div class=\"alert alert-danger\">\n",
    "Тут я вижу две ошибки. Во первых, ты пишешь что при выборе лучшей модели опирался на RMSE Train, но так делать однозначно нельзя. Мы выбираем лучшую модель используя метрику, полученную на кросс-валидации (или валидационной выборке).\n",
    "\n",
    "\n",
    "Во вторых, у модели случайного леса, если верить твоей табличке достигнута метрика 16,06\n",
    "</div>"
   ]
  },
  {
   "cell_type": "markdown",
   "id": "9503ef1f",
   "metadata": {},
   "source": [
    "<div class=\"alert alert-info\"  >\n",
    "    \n",
    "<h2>Комментарий студента_rev_1: <a class=\"tocSkip\"> </h2>\n",
    "Согласен, исправил"
   ]
  },
  {
   "cell_type": "markdown",
   "id": "2d388217",
   "metadata": {},
   "source": [
    "<img src=\"https://emojigraph.org/media/apple/check-mark-button_2705.png\" align=left width=33, heigth=33>\n",
    "<div class=\"alert alert-success\">\n",
    "    <b>v2</b> исправлено 👍 </div>"
   ]
  },
  {
   "cell_type": "markdown",
   "id": "6db8b29d",
   "metadata": {},
   "source": [
    "### Тестирование моделей\n",
    "Проведем тест обученных моделей на тестовых данных, добавим их RMSE в датафрейм с результатами, построим графики исходного и предсказанных рядов для каждой модели"
   ]
  },
  {
   "cell_type": "markdown",
   "id": "bc4b8cda",
   "metadata": {},
   "source": [
    " <img src=\"https://upload.wikimedia.org/wikipedia/commons/thumb/8/81/Stop_sign.png/240px-Stop_sign.png\" align=left width=35, heigth=35>\n",
    " <div class=\"alert alert-danger\">\n",
    "К данному этапу мы должны подойти с одной выбранной моделью. Любое использование тестовой выборки (в том числе для выбора лучшей модели) - это нарушение.</div>"
   ]
  },
  {
   "cell_type": "markdown",
   "id": "28cca54d",
   "metadata": {},
   "source": [
    "<img src=\"https://emojigraph.org/media/apple/check-mark-button_2705.png\" align=left width=33, heigth=33>\n",
    "<div class=\"alert alert-success\">\n",
    "    <b>v2</b> исправлено 👍 </div>"
   ]
  },
  {
   "cell_type": "code",
   "execution_count": 34,
   "id": "c679e6e8",
   "metadata": {},
   "outputs": [],
   "source": [
    "def display_result(target, pred, rmse):\n",
    "    result = target.to_frame().reset_index()\n",
    "    result['prediction'] = pd.Series(pred)\n",
    "    result.set_index('datetime', inplace=True)\n",
    "    \n",
    "    lineplot(result, 'RMSE='+str(rmse))"
   ]
  },
  {
   "cell_type": "code",
   "execution_count": 35,
   "id": "03a867a1",
   "metadata": {},
   "outputs": [],
   "source": [
    "# best_models = [best_model_lr,\n",
    "#                best_model_dtr,\n",
    "#                best_model_rfr,\n",
    "#                best_model_lgb\n",
    "#               ]\n",
    "\n",
    "best_models = [\n",
    "               best_model_lgb\n",
    "              ]"
   ]
  },
  {
   "cell_type": "code",
   "execution_count": 36,
   "id": "f90a21af",
   "metadata": {},
   "outputs": [],
   "source": [
    "test_models = []"
   ]
  },
  {
   "cell_type": "code",
   "execution_count": 37,
   "id": "a72c1321",
   "metadata": {},
   "outputs": [
    {
     "data": {
      "image/png": "[encoded data removed]",
      "text/plain": [
       "<Figure size 1080x504 with 1 Axes>"
      ]
     },
     "metadata": {},
     "output_type": "display_data"
    }
   ],
   "source": [
    "test_models\n",
    "for i in best_models:\n",
    "    predictions = i.predict(features_test)\n",
    "    rmse = mse(target_test, predictions)**0.5\n",
    "    display_result(target_test, predictions, rmse)\n",
    "    test_models.append(rmse)"
   ]
  },
  {
   "cell_type": "code",
   "execution_count": 38,
   "id": "49a60527",
   "metadata": {},
   "outputs": [],
   "source": [
    "# best_model_lgb\n",
    "predictions = best_model_lgb.predict(features_test)\n",
    "# best_rmse = mse(target_test, predictions)**0.5\n",
    "best_rmse = root_mean_squared_error(target_test, predictions)"
   ]
  },
  {
   "cell_type": "markdown",
   "id": "0a9b8738",
   "metadata": {},
   "source": [
    "<div class=\"alert alert-info\">\n",
    "<h2> Комментарий студента_rev.1<a class=\"tocSkip\"> </h2>\n",
    "\n",
    "А тут почему то root_mean_squared_error нормально работает 0_0\n",
    "</div>"
   ]
  },
  {
   "cell_type": "markdown",
   "id": "7a12a91c",
   "metadata": {},
   "source": [
    "<img src=\"https://emojigraph.org/media/apple/check-mark-button_2705.png\" align=left width=33, heigth=33>\n",
    "<div class=\"alert alert-success\">\n",
    "    <b>v2</b> ответил выше.  здесь ты используешь root_mean_squared_error по назначению, а когда ты передавал её вместо скорера, это вызывало ошибки\n",
    "</div>"
   ]
  },
  {
   "cell_type": "markdown",
   "id": "2dce93b6",
   "metadata": {},
   "source": [
    "results_df = pd.DataFrame(columns=['Model', 'Best RMSE', 'Training Time', 'Prediction Time'])\n",
    "results_df.loc[0] = ['LinearRegression', best_rmse, training_time, prediction_time]\n",
    ".loc[0] = ['LinearRegression', best_rmse, training_time, prediction_time]"
   ]
  },
  {
   "cell_type": "code",
   "execution_count": 39,
   "id": "fdf1160c",
   "metadata": {
    "scrolled": false
   },
   "outputs": [],
   "source": [
    "best_result = pd.DataFrame(columns=[\"Model\", 'Best RMSE'])\n",
    "best_result.loc[0] = ['LightGBM', round(best_rmse,2)]\n",
    "# results_df['RMSE test'] = pd.Series(test_models)\n",
    "# results_df.sort_values(by='Best RMSE')"
   ]
  },
  {
   "cell_type": "code",
   "execution_count": 40,
   "id": "8a22c446",
   "metadata": {},
   "outputs": [
    {
     "data": {
      "text/html": [
       "<div>\n",
       "<style scoped>\n",
       "    .dataframe tbody tr th:only-of-type {\n",
       "        vertical-align: middle;\n",
       "    }\n",
       "\n",
       "    .dataframe tbody tr th {\n",
       "        vertical-align: top;\n",
       "    }\n",
       "\n",
       "    .dataframe thead th {\n",
       "        text-align: right;\n",
       "    }\n",
       "</style>\n",
       "<table border=\"1\" class=\"dataframe\">\n",
       "  <thead>\n",
       "    <tr style=\"text-align: right;\">\n",
       "      <th></th>\n",
       "      <th>Model</th>\n",
       "      <th>Best RMSE</th>\n",
       "    </tr>\n",
       "  </thead>\n",
       "  <tbody>\n",
       "    <tr>\n",
       "      <th>0</th>\n",
       "      <td>LightGBM</td>\n",
       "      <td>42.98</td>\n",
       "    </tr>\n",
       "  </tbody>\n",
       "</table>\n",
       "</div>"
      ],
      "text/plain": [
       "      Model  Best RMSE\n",
       "0  LightGBM      42.98"
      ]
     },
     "execution_count": 40,
     "metadata": {},
     "output_type": "execute_result"
    }
   ],
   "source": [
    "best_result"
   ]
  },
  {
   "cell_type": "markdown",
   "id": "425eaddf",
   "metadata": {},
   "source": [
    "## Вывод\n",
    "\n",
    "Было проведено исследование, направленное на создание модели машинного обучения для прогнозирования количества заказов для компании «Чётенькое такси»  в аэропортах на следующий час. \n",
    "\n",
    "Исследование проведено в целях привлечения большего количества водителей к аэропортам в периоды пиковой нагрузки. Входные данные для модели - исторические данные о заказах такси в аэропортах. Результаты на обучающей и тнстовой выборках показали, что удалось создать модель для успешного прогнозирования. Лучшей моделью является  LGBMRegressor\n"
   ]
  },
  {
   "cell_type": "markdown",
   "id": "d21fde20",
   "metadata": {},
   "source": [
    "## Чек-лист проверки"
   ]
  },
  {
   "cell_type": "markdown",
   "id": "406152c1",
   "metadata": {},
   "source": [
    "- [x]  Jupyter Notebook открыт\n",
    "- [x]  Весь код выполняется без ошибок\n",
    "- [x]  Ячейки с кодом расположены в порядке исполнения\n",
    "- [x]  Данные загружены и подготовлены\n",
    "- [x]  Данные проанализированы\n",
    "- [x]  Модель обучена, гиперпараметры подобраны\n",
    "- [x]  Качество моделей проверено, выводы сделаны\n",
    "- [x]  Значение *RMSE* на тестовой выборке не больше 48"
   ]
  },
  {
   "cell_type": "markdown",
   "id": "cd378d3e",
   "metadata": {},
   "source": [
    "### Послесловие"
   ]
  },
  {
   "cell_type": "markdown",
   "id": "67b94d18",
   "metadata": {},
   "source": [
    "<div class=\"alert alert-info\">\n",
    "<h2> Комментарий студента_rev.1<a class=\"tocSkip\"> </h2>\n",
    "\n",
    "Попробовал загнать проект в пайплайн, но видимо где-то накосячил и оба варианта ячеек ниже вываливают ошибку, пока так и не смог разобраться, но хотелось бы))\n",
    "</div>"
   ]
  },
  {
   "cell_type": "markdown",
   "id": "358fd89b",
   "metadata": {},
   "source": [
    "<img src=\"https://upload.wikimedia.org/wikipedia/commons/b/ba/Warning_sign_4.0.png\" align=left width=44, heigth=33>\n",
    "<div class=\"alert alert-warning\">\n",
    "\n",
    "В первой ячейке ошибка в лишней закрыающей фигурной скобке \n",
    "    \n",
    "```python\n",
    "        'models__max_depth': range(1, 11, 2)}\n",
    "    },    \n",
    "    \n",
    "```\n",
    "    \n",
    "но она не единственная, там еще не хватает запятой в строчке `  scoring='neg_root_mean_squared_error'`   \n",
    "</div>"
   ]
  },
  {
   "cell_type": "markdown",
   "id": "cf996a2d",
   "metadata": {},
   "source": [
    "<div class=\"alert alert-info\">\n",
    "<h2> Комментарий студента_rev.0<a class=\"tocSkip\"> </h2>\n",
    "О, спасибо, проморгал эти моменты)) Надо будет еще поковырять этот пайп, а пока дедлайн горит)))\n",
    "</div>"
   ]
  },
  {
   "cell_type": "code",
   "execution_count": 41,
   "id": "06a3b3b9",
   "metadata": {
    "scrolled": true
   },
   "outputs": [
    {
     "ename": "TypeError",
     "evalue": "__init__() got an unexpected keyword argument 'random_state'",
     "output_type": "error",
     "traceback": [
      "\u001b[0;31m---------------------------------------------------------------------------\u001b[0m",
      "\u001b[0;31mTypeError\u001b[0m                                 Traceback (most recent call last)",
      "\u001b[0;32m/tmp/ipykernel_48/1828741063.py\u001b[0m in \u001b[0;36m<module>\u001b[0;34m\u001b[0m\n\u001b[1;32m     35\u001b[0m \u001b[0;34m\u001b[0m\u001b[0m\n\u001b[1;32m     36\u001b[0m \u001b[0;34m\u001b[0m\u001b[0m\n\u001b[0;32m---> 37\u001b[0;31m grid_search = GridSearchCV(\n\u001b[0m\u001b[1;32m     38\u001b[0m     \u001b[0mpipe_final\u001b[0m\u001b[0;34m,\u001b[0m\u001b[0;34m\u001b[0m\u001b[0;34m\u001b[0m\u001b[0m\n\u001b[1;32m     39\u001b[0m     \u001b[0mparam_grid\u001b[0m\u001b[0;34m,\u001b[0m\u001b[0;34m\u001b[0m\u001b[0;34m\u001b[0m\u001b[0m\n",
      "\u001b[0;31mTypeError\u001b[0m: __init__() got an unexpected keyword argument 'random_state'"
     ]
    }
   ],
   "source": [
    "# версия 1\n",
    "pipe_final = Pipeline([\n",
    "    ('models', DecisionTreeClassifier(random_state=RANDOM_STATE))\n",
    "                      ])\n",
    "\n",
    "param_grid = [  \n",
    "    \n",
    "    # словарь для модели LinearRegression()\n",
    "    {\n",
    "        'models': [LinearRegression()] \n",
    "    },\n",
    "    \n",
    "    # словарь для модели DecisionTreeRegressor()\n",
    "    {\n",
    "        'models': [DecisionTreeRegressor(random_state=RANDOM_STATE)],\n",
    "        'models__max_depth': range(1, 11, 2)\n",
    "    },\n",
    "    \n",
    "\n",
    "    # словарь для модели RandomForestRegressor()\n",
    "    {\n",
    "        'models': [RandomForestRegressor(random_state=RANDOM_STATE)],\n",
    "        'models__n_estimators' : range(50, 100, 10),\n",
    "        'max_depth': range(1, 11, 2)            \n",
    "    },\n",
    "    \n",
    "    \n",
    "    # словарь для модели RandomForestRegressor()\n",
    "    {\n",
    "        'models': [LGBMRegressor(random_state=RANDOM_STATE)],\n",
    "        'models__n_estimators' : range(50, 100, 10),\n",
    "        'max_depth': range(1, 11, 2)            \n",
    "    }\n",
    "]\n",
    "    \n",
    "\n",
    "grid_search = GridSearchCV(\n",
    "    pipe_final, \n",
    "    param_grid, \n",
    "    cv=time_cv,\n",
    "    scoring='neg_root_mean_squared_error',\n",
    "    random_state=RANDOM_STATE,\n",
    "    n_jobs=-1\n",
    ")\n",
    "\n",
    "\n",
    "grid_search.fit(X_train, y_train)"
   ]
  },
  {
   "cell_type": "code",
   "execution_count": null,
   "id": "9579088f",
   "metadata": {
    "scrolled": false
   },
   "outputs": [],
   "source": [
    "# версия 2\n",
    "pipe_final = Pipeline([\n",
    "    ('model_1', DecisionTreeRegressor(random_state=RANDOM_STATE)),\n",
    "    ('model_2', RandomForestRegressor(random_state=RANDOM_STATE)),\n",
    "    ('model_3', LGBMRegressor(random_state=RANDOM_STATE)),\n",
    "    ('model_4', LinearRegression())\n",
    "])\n",
    "\n",
    "param_grid = [\n",
    "    # Словарь для модели LinearRegression()\n",
    "    {\n",
    "#         'model_4__normalize': [True, False]\n",
    "    },\n",
    "    # Словарь для модели DecisionTreeRegressor()\n",
    "    {\n",
    "        'model_1__max_depth': range(1, 11, 2)\n",
    "    },\n",
    "    # Словарь для модели RandomForestRegressor()\n",
    "    {\n",
    "        'model_2__n_estimators': range(50, 100, 10),\n",
    "        'model_2__max_depth': range(1, 11, 2)\n",
    "    },\n",
    "    # Словарь для модели RandomForestRegressor()\n",
    "    {\n",
    "        'model_3__n_estimators': range(50, 100, 10),\n",
    "        'model_3__max_depth': range(1, 11, 2)\n",
    "    }\n",
    "]\n",
    "\n",
    "grid_search = GridSearchCV(\n",
    "    pipe_final,\n",
    "    param_grid,\n",
    "    cv=time_cv,\n",
    "    scoring='neg_root_mean_squared_error',\n",
    "    n_jobs=-1\n",
    ")\n",
    "\n",
    "\n",
    "grid_search.fit(features_train, target_train)"
   ]
  },
  {
   "cell_type": "markdown",
   "id": "7cf15644",
   "metadata": {},
   "source": [
    "<img src=\"http://s3.amazonaws.com/pix.iemoji.com/images/emoji/apple/ios-12/256/waving-hand.png\" align=left width=44, heigth=44>\n",
    "<div class=\"alert alert-info\">\n",
    "<b> Заключительный комментарий v3</b>\n",
    "\n",
    "Проект принят. Поздравляю и желаю дальнейших успехов!\n",
    "</div>"
   ]
  },
  {
   "cell_type": "markdown",
   "id": "72de33b7",
   "metadata": {},
   "source": [
    "<img src=\"http://s3.amazonaws.com/pix.iemoji.com/images/emoji/apple/ios-12/256/waving-hand.png\" align=left width=44, heigth=44>\n",
    "<div class=\"alert alert-info\">\n",
    "<b> Заключительный комментарий v2</b>\n",
    "Я вижу что ты проработал мои замечания, но остался момент с масштабированием признаков для линейной модели. </div>"
   ]
  },
  {
   "cell_type": "markdown",
   "id": "1086f1eb",
   "metadata": {},
   "source": [
    "<img src=\"http://s3.amazonaws.com/pix.iemoji.com/images/emoji/apple/ios-12/256/waving-hand.png\" align=left width=44, heigth=44>\n",
    "<div class=\"alert alert-info\">\n",
    "<b> Заключительный комментарий</b>\n",
    "\n",
    "В целом мне все понравилось: твоя работа выполнена на хорошем уровне, ты изучил данные, нашел сезоность и тренд,  корректно подготовил признаки и обучил модели. Также в проекте много графиков и пояснений.\n",
    "\n",
    "Мне очень понравилось как ты исследовал сезонность.\n",
    "    \n",
    "    \n",
    "Что нужно доработать обязательно:\n",
    "    \n",
    " - проект должен воспроизводиться без ошибок\n",
    " - пожалуйста начни анализ с изучения графика временного ряда\n",
    " - нужно удалить календарные признаки \"месяц\" и \"год\"\n",
    " - перед использованием линейной модели данные нужно масштабировать\n",
    " - для выбора лучшей модели нужно использовать оценки, полученные с помощью кросс-валидации, а не оценки полученные на данных, на которых обучалась модель\n",
    " - нужно вначале выбрать ОДНУ модель и только потом приступать к её тестированию. Выбирать модель по тестовой выборке нельзя\n",
    "\n",
    "        \n",
    "    \n",
    "Жду твой проект на финальное ревью :)\n",
    "</div>"
   ]
  },
  {
   "cell_type": "markdown",
   "id": "104b7780",
   "metadata": {},
   "source": [
    "<img src=\"http://s3.amazonaws.com/pix.iemoji.com/images/emoji/apple/ios-12/256/waving-hand.png\" align=left width=44, heigth=44>\n",
    "<div class=\"alert alert-info\">\n",
    "<b> Дополнительные материалы </b>\n",
    "\n",
    "Если решишь глубже погрузиться в тему временных рядов, думаю тебе стоит знать что подход, изученный в курсе далеко не единственный. Вот к чему возможно стоит обратиться:\n",
    " - Авторегрессионные модели семейства ARIMA. В качестве экскурса очень полезно следующее видео: https://www.youtube.com/watch?v=u433nrxdf5k&t=110s\n",
    " - Библиотека prophet от Facebook. По моим наблюдениям, качество решения этой моделью ниже, но она очень проста в применении. https://habr.com/ru/company/ods/blog/323730/\n",
    "    \n",
    " - Урок по временным рядам из курса ML от ODS (https://habr.com/ru/company/ods/blog/327242/)\n",
    " - Лекция по прогнозированию временных рядов из курса Computer Science Center (https://www.youtube.com/watch?v=COBcXzKmOyk)   \n",
    "\n",
    "\n",
    "</div>"
   ]
  },
  {
   "cell_type": "markdown",
   "id": "62ff7d21",
   "metadata": {},
   "source": [
    "<img src=\"https://emojigraph.org/media/apple/check-mark-button_2705.png\" align=left width=33, heigth=33>\n",
    "<div class=\"alert alert-success\"> \n",
    "<b>минутка теории</b>\n",
    "    \n",
    "<b>общий дизайн ML исследования</b>\n",
    "\n",
    "В курсе мы используем следующую схему оценки качества алгоритмов:\n",
    "\n",
    "1. Все данные делятся на 3 части: \n",
    "   - обучение,\n",
    "   - валидация,\n",
    "   - тест.\n",
    "\n",
    "2. Каждый из алгоритмов будет обучен на обучающей выборке. \n",
    "3. Подбор гиперпараметров мы осуществляем с помощью оценки на валидационной выборке.\n",
    "4. Когда гиперпараметры подобраны, качество каждого алгоритма мы оцениваем с помощью валидационной выборки.\n",
    "    \n",
    "5. Выбираем лучший по оценке на валидационной выборке.\n",
    "6. И уже самый лучший алгоритм оцениваем по тестовой выборке.\n",
    "\n",
    "\n",
    "Есть более системный вариант этой схемы, с использованием кросс-валидации. В этом случае  схема немного адаптируется. \n",
    "\n",
    "Все данные делятся на 2 части, первая будет использоваться для обучения и подбора гиперпараметров, и оценки алгоритмов с помощью кросс-валидации, вторая будет использоваться для финального тестирования.\n",
    "    \n",
    "    \n",
    "Я советую до начала обучения моделей  решить для себя, какую стратегию стоит использовать в проекте (с кросс-валидацией или с выделением отдельной валидационной выборки).    \n",
    "\n",
    "\n",
    "<b>Дополнительные материалы:</b>    \n",
    "    \n",
    "    \n",
    "<a href=\"https://academy.yandex.ru/handbook/ml/article/kross-validaciya\">Онлайн-учебник по машинному обучению от ШАД</a>        \n",
    "        \n",
    "    \n",
    "<a href=\"https://github.com/minhdai2410/machine-learning-data-analysis-yandex-mipt-coursera/blob/master/2%20Supervised%20Learning/Lectures/2-1.Problema_pereobucheniya_i_bor_ba_s_nej.pdf\">Конспект специализации Машинное обучение и анализ данных</a>, внимание двум последним страницам.\n",
    "</div>"
   ]
  },
  {
   "cell_type": "markdown",
   "id": "31f22182",
   "metadata": {},
   "source": [
    "<img src=\"https://emojigraph.org/media/apple/check-mark-button_2705.png\" align=left width=33, heigth=33>\n",
    "<div class=\"alert alert-success\"> \n",
    "<b>минутка теории</b>\n",
    "    \n",
    "<b>Что такое кросс-валидация</b>:\n",
    "\n",
    "Это более системный подход, альтернатива стандартной валидационной выборке.  При кросс-валидации выборка делится на k блоков примерно одинакового размера.  Далее по очереди каждый из этих блоков используется для оценки модели (в качестве валидационной выборки), остальные используются в качестве обучающей выборки. \n",
    "\n",
    "После того, как каждый из блоков будет использован в качестве валидационного, мы получим k оценок качества модели. Усредняя эти оценки мы получаем оценку модели по кросс-валидации.\n",
    "\n",
    "\n",
    "\n",
    "    \n",
    "<a href=\"https://academy.yandex.ru/handbook/ml/article/kross-validaciya\">Онлайн-учебник по машинному обучению от ШАД</a>        \n",
    "    \n",
    "\n",
    "<a href=\"https://github.com/minhdai2410/machine-learning-data-analysis-yandex-mipt-coursera/blob/master/2%20Supervised%20Learning/Lectures/2-1.Problema_pereobucheniya_i_bor_ba_s_nej.pdf\">Конспект специализации Машинное обучение и анализ данных</a> , кросс-валидация подбробно разобрана на последних двух страницах.   \n",
    " \n",
    "    \n",
    "\n",
    "    \n",
    "    \n",
    "</div>"
   ]
  },
  {
   "cell_type": "code",
   "execution_count": null,
   "id": "b6d58bab",
   "metadata": {},
   "outputs": [],
   "source": []
  }
 ],
 "metadata": {
  "ExecuteTimeLog": [
   {
    "duration": 5055,
    "start_time": "2024-06-30T13:05:50.247Z"
   },
   {
    "duration": 7,
    "start_time": "2024-06-30T13:05:55.304Z"
   },
   {
    "duration": 11,
    "start_time": "2024-06-30T13:05:55.312Z"
   },
   {
    "duration": 60,
    "start_time": "2024-06-30T13:05:55.325Z"
   },
   {
    "duration": 13,
    "start_time": "2024-06-30T13:25:52.377Z"
   },
   {
    "duration": 8,
    "start_time": "2024-06-30T13:25:59.025Z"
   },
   {
    "duration": 4,
    "start_time": "2024-06-30T13:26:04.178Z"
   },
   {
    "duration": 9,
    "start_time": "2024-06-30T13:26:05.360Z"
   },
   {
    "duration": 66,
    "start_time": "2024-06-30T14:14:29.464Z"
   },
   {
    "duration": 14,
    "start_time": "2024-06-30T14:14:48.817Z"
   },
   {
    "duration": 11,
    "start_time": "2024-06-30T14:15:08.731Z"
   },
   {
    "duration": 64,
    "start_time": "2024-06-30T14:52:29.653Z"
   },
   {
    "duration": 72,
    "start_time": "2024-06-30T14:52:39.280Z"
   },
   {
    "duration": 42,
    "start_time": "2024-06-30T14:52:48.461Z"
   },
   {
    "duration": 8878,
    "start_time": "2024-06-30T14:52:56.658Z"
   },
   {
    "duration": 1384,
    "start_time": "2024-06-30T14:53:05.539Z"
   },
   {
    "duration": 2,
    "start_time": "2024-06-30T14:53:06.925Z"
   },
   {
    "duration": 196,
    "start_time": "2024-06-30T14:53:10.828Z"
   },
   {
    "duration": 80,
    "start_time": "2024-06-30T14:57:52.794Z"
   },
   {
    "duration": 2,
    "start_time": "2024-06-30T14:57:54.962Z"
   },
   {
    "duration": 7,
    "start_time": "2024-06-30T14:57:55.465Z"
   },
   {
    "duration": 773,
    "start_time": "2024-06-30T14:58:24.411Z"
   },
   {
    "duration": 5469,
    "start_time": "2024-06-30T15:01:49.928Z"
   },
   {
    "duration": 6,
    "start_time": "2024-06-30T15:01:55.399Z"
   },
   {
    "duration": 6,
    "start_time": "2024-06-30T15:01:55.407Z"
   },
   {
    "duration": 81,
    "start_time": "2024-06-30T15:01:55.415Z"
   },
   {
    "duration": 89,
    "start_time": "2024-06-30T15:01:55.497Z"
   },
   {
    "duration": 3,
    "start_time": "2024-06-30T15:01:55.587Z"
   },
   {
    "duration": 8,
    "start_time": "2024-06-30T15:01:55.592Z"
   },
   {
    "duration": 2,
    "start_time": "2024-06-30T15:01:55.601Z"
   },
   {
    "duration": 368,
    "start_time": "2024-06-30T15:01:55.604Z"
   },
   {
    "duration": 327,
    "start_time": "2024-06-30T15:01:55.974Z"
   },
   {
    "duration": 276,
    "start_time": "2024-06-30T15:01:56.302Z"
   },
   {
    "duration": 182,
    "start_time": "2024-06-30T15:01:56.580Z"
   },
   {
    "duration": 4,
    "start_time": "2024-06-30T15:01:56.770Z"
   },
   {
    "duration": 105,
    "start_time": "2024-06-30T15:01:56.775Z"
   },
   {
    "duration": 3,
    "start_time": "2024-06-30T15:01:56.881Z"
   },
   {
    "duration": 6,
    "start_time": "2024-06-30T15:01:56.885Z"
   },
   {
    "duration": 2,
    "start_time": "2024-06-30T15:01:56.892Z"
   },
   {
    "duration": 5,
    "start_time": "2024-06-30T15:01:56.896Z"
   },
   {
    "duration": 5,
    "start_time": "2024-06-30T15:01:56.903Z"
   },
   {
    "duration": 2464,
    "start_time": "2024-06-30T15:01:56.909Z"
   },
   {
    "duration": 5,
    "start_time": "2024-06-30T15:05:56.831Z"
   },
   {
    "duration": 12,
    "start_time": "2024-06-30T15:06:39.591Z"
   },
   {
    "duration": 5,
    "start_time": "2024-06-30T15:07:36.542Z"
   },
   {
    "duration": 10,
    "start_time": "2024-06-30T15:07:41.653Z"
   },
   {
    "duration": 5,
    "start_time": "2024-06-30T15:13:24.460Z"
   },
   {
    "duration": 265,
    "start_time": "2024-06-30T15:14:08.670Z"
   },
   {
    "duration": 243,
    "start_time": "2024-06-30T15:14:57.638Z"
   },
   {
    "duration": 261,
    "start_time": "2024-06-30T15:15:28.182Z"
   },
   {
    "duration": 329,
    "start_time": "2024-06-30T15:15:58.427Z"
   },
   {
    "duration": 253,
    "start_time": "2024-06-30T15:16:36.008Z"
   },
   {
    "duration": 66,
    "start_time": "2024-06-30T15:17:31.895Z"
   },
   {
    "duration": 5485,
    "start_time": "2024-06-30T15:20:03.025Z"
   },
   {
    "duration": 6,
    "start_time": "2024-06-30T15:20:08.513Z"
   },
   {
    "duration": 9,
    "start_time": "2024-06-30T15:20:08.520Z"
   },
   {
    "duration": 79,
    "start_time": "2024-06-30T15:20:08.531Z"
   },
   {
    "duration": 20,
    "start_time": "2024-06-30T15:20:08.611Z"
   },
   {
    "duration": 58,
    "start_time": "2024-06-30T15:20:08.632Z"
   },
   {
    "duration": 10,
    "start_time": "2024-06-30T15:20:08.692Z"
   },
   {
    "duration": 3,
    "start_time": "2024-06-30T15:20:08.703Z"
   },
   {
    "duration": 313,
    "start_time": "2024-06-30T15:20:08.708Z"
   },
   {
    "duration": 279,
    "start_time": "2024-06-30T15:20:09.023Z"
   },
   {
    "duration": 279,
    "start_time": "2024-06-30T15:20:09.303Z"
   },
   {
    "duration": 182,
    "start_time": "2024-06-30T15:20:09.583Z"
   },
   {
    "duration": 5,
    "start_time": "2024-06-30T15:20:09.770Z"
   },
   {
    "duration": 284,
    "start_time": "2024-06-30T15:20:09.776Z"
   },
   {
    "duration": 273,
    "start_time": "2024-06-30T15:20:10.062Z"
   },
   {
    "duration": 251,
    "start_time": "2024-06-30T15:20:10.337Z"
   },
   {
    "duration": 3,
    "start_time": "2024-06-30T15:20:10.590Z"
   },
   {
    "duration": 168,
    "start_time": "2024-06-30T15:21:07.451Z"
   },
   {
    "duration": 5505,
    "start_time": "2024-06-30T15:25:52.126Z"
   },
   {
    "duration": 7,
    "start_time": "2024-06-30T15:25:57.633Z"
   },
   {
    "duration": 19,
    "start_time": "2024-06-30T15:25:57.641Z"
   },
   {
    "duration": 83,
    "start_time": "2024-06-30T15:25:57.662Z"
   },
   {
    "duration": 20,
    "start_time": "2024-06-30T15:25:57.746Z"
   },
   {
    "duration": 4,
    "start_time": "2024-06-30T15:25:57.768Z"
   },
   {
    "duration": 6,
    "start_time": "2024-06-30T15:25:57.773Z"
   },
   {
    "duration": 3,
    "start_time": "2024-06-30T15:25:57.781Z"
   },
   {
    "duration": 322,
    "start_time": "2024-06-30T15:25:57.785Z"
   },
   {
    "duration": 295,
    "start_time": "2024-06-30T15:25:58.111Z"
   },
   {
    "duration": 293,
    "start_time": "2024-06-30T15:25:58.407Z"
   },
   {
    "duration": 186,
    "start_time": "2024-06-30T15:25:58.702Z"
   },
   {
    "duration": 5,
    "start_time": "2024-06-30T15:25:58.889Z"
   },
   {
    "duration": 284,
    "start_time": "2024-06-30T15:25:58.895Z"
   },
   {
    "duration": 248,
    "start_time": "2024-06-30T15:25:59.181Z"
   },
   {
    "duration": 253,
    "start_time": "2024-06-30T15:25:59.430Z"
   },
   {
    "duration": 4,
    "start_time": "2024-06-30T15:25:59.684Z"
   },
   {
    "duration": 103,
    "start_time": "2024-06-30T15:25:59.689Z"
   },
   {
    "duration": 3,
    "start_time": "2024-06-30T15:25:59.794Z"
   },
   {
    "duration": 7,
    "start_time": "2024-06-30T15:25:59.798Z"
   },
   {
    "duration": 5,
    "start_time": "2024-06-30T15:27:47.091Z"
   },
   {
    "duration": 12,
    "start_time": "2024-06-30T15:29:41.335Z"
   },
   {
    "duration": 9,
    "start_time": "2024-06-30T15:30:04.174Z"
   },
   {
    "duration": 6,
    "start_time": "2024-06-30T15:30:08.936Z"
   },
   {
    "duration": 5,
    "start_time": "2024-06-30T15:31:55.444Z"
   },
   {
    "duration": 2846,
    "start_time": "2024-06-30T15:33:04.728Z"
   },
   {
    "duration": 5,
    "start_time": "2024-06-30T15:34:24.359Z"
   },
   {
    "duration": 4,
    "start_time": "2024-06-30T15:34:45.977Z"
   },
   {
    "duration": 2810,
    "start_time": "2024-06-30T15:34:52.868Z"
   },
   {
    "duration": 5,
    "start_time": "2024-06-30T15:35:08.982Z"
   },
   {
    "duration": 8,
    "start_time": "2024-06-30T15:35:15.719Z"
   },
   {
    "duration": 4,
    "start_time": "2024-06-30T15:47:21.489Z"
   },
   {
    "duration": 1996,
    "start_time": "2024-06-30T15:47:26.477Z"
   },
   {
    "duration": 5432,
    "start_time": "2024-06-30T15:51:04.315Z"
   },
   {
    "duration": 1237,
    "start_time": "2024-06-30T15:51:09.749Z"
   },
   {
    "duration": 3,
    "start_time": "2024-06-30T15:51:10.988Z"
   },
   {
    "duration": 76,
    "start_time": "2024-06-30T15:51:10.992Z"
   },
   {
    "duration": 22,
    "start_time": "2024-06-30T15:51:11.069Z"
   },
   {
    "duration": 4,
    "start_time": "2024-06-30T15:51:11.092Z"
   },
   {
    "duration": 8,
    "start_time": "2024-06-30T15:51:11.097Z"
   },
   {
    "duration": 3,
    "start_time": "2024-06-30T15:51:11.106Z"
   },
   {
    "duration": 353,
    "start_time": "2024-06-30T15:51:11.110Z"
   },
   {
    "duration": 298,
    "start_time": "2024-06-30T15:51:11.466Z"
   },
   {
    "duration": 322,
    "start_time": "2024-06-30T15:51:11.766Z"
   },
   {
    "duration": 184,
    "start_time": "2024-06-30T15:51:12.090Z"
   },
   {
    "duration": 4,
    "start_time": "2024-06-30T15:51:12.276Z"
   },
   {
    "duration": 273,
    "start_time": "2024-06-30T15:51:12.281Z"
   },
   {
    "duration": 246,
    "start_time": "2024-06-30T15:51:12.555Z"
   },
   {
    "duration": 272,
    "start_time": "2024-06-30T15:51:12.802Z"
   },
   {
    "duration": 3,
    "start_time": "2024-06-30T15:51:13.076Z"
   },
   {
    "duration": 123,
    "start_time": "2024-06-30T15:51:13.080Z"
   },
   {
    "duration": 4,
    "start_time": "2024-06-30T15:51:13.204Z"
   },
   {
    "duration": 6,
    "start_time": "2024-06-30T15:51:13.209Z"
   },
   {
    "duration": 14,
    "start_time": "2024-06-30T15:51:13.216Z"
   },
   {
    "duration": 10,
    "start_time": "2024-06-30T15:51:13.232Z"
   },
   {
    "duration": 13,
    "start_time": "2024-06-30T15:51:13.243Z"
   },
   {
    "duration": 8,
    "start_time": "2024-06-30T15:51:13.257Z"
   },
   {
    "duration": 3017,
    "start_time": "2024-06-30T15:51:13.266Z"
   },
   {
    "duration": 86,
    "start_time": "2024-06-30T15:51:16.285Z"
   },
   {
    "duration": 4,
    "start_time": "2024-06-30T15:53:32.594Z"
   },
   {
    "duration": 2417,
    "start_time": "2024-06-30T15:53:49.656Z"
   },
   {
    "duration": 570,
    "start_time": "2024-06-30T15:54:17.908Z"
   },
   {
    "duration": 108682,
    "start_time": "2024-06-30T15:54:40.154Z"
   },
   {
    "duration": 5502,
    "start_time": "2024-06-30T16:05:26.769Z"
   },
   {
    "duration": 1233,
    "start_time": "2024-06-30T16:05:32.273Z"
   },
   {
    "duration": 3,
    "start_time": "2024-06-30T16:05:33.508Z"
   },
   {
    "duration": 75,
    "start_time": "2024-06-30T16:05:33.513Z"
   },
   {
    "duration": 23,
    "start_time": "2024-06-30T16:05:33.590Z"
   },
   {
    "duration": 4,
    "start_time": "2024-06-30T16:05:33.615Z"
   },
   {
    "duration": 50,
    "start_time": "2024-06-30T16:05:33.620Z"
   },
   {
    "duration": 3,
    "start_time": "2024-06-30T16:05:33.671Z"
   },
   {
    "duration": 351,
    "start_time": "2024-06-30T16:05:33.676Z"
   },
   {
    "duration": 291,
    "start_time": "2024-06-30T16:05:34.031Z"
   },
   {
    "duration": 359,
    "start_time": "2024-06-30T16:05:34.323Z"
   },
   {
    "duration": 182,
    "start_time": "2024-06-30T16:05:34.683Z"
   },
   {
    "duration": 5,
    "start_time": "2024-06-30T16:05:34.870Z"
   },
   {
    "duration": 290,
    "start_time": "2024-06-30T16:05:34.876Z"
   },
   {
    "duration": 278,
    "start_time": "2024-06-30T16:05:35.168Z"
   },
   {
    "duration": 253,
    "start_time": "2024-06-30T16:05:35.448Z"
   },
   {
    "duration": 4,
    "start_time": "2024-06-30T16:05:35.702Z"
   },
   {
    "duration": 123,
    "start_time": "2024-06-30T16:05:35.707Z"
   },
   {
    "duration": 3,
    "start_time": "2024-06-30T16:05:35.832Z"
   },
   {
    "duration": 10,
    "start_time": "2024-06-30T16:05:35.836Z"
   },
   {
    "duration": 23,
    "start_time": "2024-06-30T16:05:35.847Z"
   },
   {
    "duration": 28,
    "start_time": "2024-06-30T16:05:35.872Z"
   },
   {
    "duration": 21,
    "start_time": "2024-06-30T16:05:35.902Z"
   },
   {
    "duration": 12,
    "start_time": "2024-06-30T16:05:35.925Z"
   },
   {
    "duration": 2885,
    "start_time": "2024-06-30T16:05:35.938Z"
   },
   {
    "duration": 1,
    "start_time": "2024-06-30T16:05:38.824Z"
   },
   {
    "duration": 0,
    "start_time": "2024-06-30T16:05:38.825Z"
   },
   {
    "duration": 0,
    "start_time": "2024-06-30T16:05:38.826Z"
   },
   {
    "duration": 0,
    "start_time": "2024-06-30T16:05:38.827Z"
   },
   {
    "duration": 0,
    "start_time": "2024-06-30T16:05:38.828Z"
   },
   {
    "duration": 4459,
    "start_time": "2024-06-30T16:07:21.813Z"
   },
   {
    "duration": 5498,
    "start_time": "2024-06-30T16:08:25.454Z"
   },
   {
    "duration": 1210,
    "start_time": "2024-06-30T16:08:30.954Z"
   },
   {
    "duration": 3,
    "start_time": "2024-06-30T16:08:32.167Z"
   },
   {
    "duration": 71,
    "start_time": "2024-06-30T16:08:32.172Z"
   },
   {
    "duration": 22,
    "start_time": "2024-06-30T16:08:32.245Z"
   },
   {
    "duration": 4,
    "start_time": "2024-06-30T16:08:32.268Z"
   },
   {
    "duration": 10,
    "start_time": "2024-06-30T16:08:32.273Z"
   },
   {
    "duration": 2,
    "start_time": "2024-06-30T16:08:32.284Z"
   },
   {
    "duration": 336,
    "start_time": "2024-06-30T16:08:32.287Z"
   },
   {
    "duration": 280,
    "start_time": "2024-06-30T16:08:32.626Z"
   },
   {
    "duration": 330,
    "start_time": "2024-06-30T16:08:32.908Z"
   },
   {
    "duration": 190,
    "start_time": "2024-06-30T16:08:33.239Z"
   },
   {
    "duration": 5,
    "start_time": "2024-06-30T16:08:33.430Z"
   },
   {
    "duration": 288,
    "start_time": "2024-06-30T16:08:33.436Z"
   },
   {
    "duration": 265,
    "start_time": "2024-06-30T16:08:33.725Z"
   },
   {
    "duration": 260,
    "start_time": "2024-06-30T16:08:33.991Z"
   },
   {
    "duration": 3,
    "start_time": "2024-06-30T16:08:34.253Z"
   },
   {
    "duration": 108,
    "start_time": "2024-06-30T16:08:34.257Z"
   },
   {
    "duration": 5,
    "start_time": "2024-06-30T16:08:34.366Z"
   },
   {
    "duration": 5,
    "start_time": "2024-06-30T16:08:34.372Z"
   },
   {
    "duration": 6,
    "start_time": "2024-06-30T16:08:34.378Z"
   },
   {
    "duration": 5,
    "start_time": "2024-06-30T16:08:34.385Z"
   },
   {
    "duration": 6,
    "start_time": "2024-06-30T16:08:34.391Z"
   },
   {
    "duration": 6,
    "start_time": "2024-06-30T16:08:34.398Z"
   },
   {
    "duration": 2568,
    "start_time": "2024-06-30T16:08:34.406Z"
   },
   {
    "duration": 2,
    "start_time": "2024-06-30T16:08:36.976Z"
   },
   {
    "duration": 668,
    "start_time": "2024-06-30T16:08:36.979Z"
   },
   {
    "duration": 109155,
    "start_time": "2024-06-30T16:08:37.650Z"
   },
   {
    "duration": 79801,
    "start_time": "2024-06-30T16:11:06.879Z"
   },
   {
    "duration": 5,
    "start_time": "2024-06-30T16:12:35.755Z"
   },
   {
    "duration": 71,
    "start_time": "2024-06-30T16:15:51.164Z"
   },
   {
    "duration": 10,
    "start_time": "2024-06-30T16:17:42.003Z"
   },
   {
    "duration": 4,
    "start_time": "2024-06-30T16:18:06.107Z"
   },
   {
    "duration": 3,
    "start_time": "2024-06-30T16:19:11.843Z"
   },
   {
    "duration": 13,
    "start_time": "2024-06-30T16:19:11.847Z"
   },
   {
    "duration": 7,
    "start_time": "2024-06-30T16:19:11.861Z"
   },
   {
    "duration": 1378,
    "start_time": "2024-06-30T16:19:11.869Z"
   },
   {
    "duration": 75,
    "start_time": "2024-06-30T16:19:36.897Z"
   },
   {
    "duration": 19,
    "start_time": "2024-06-30T16:19:36.973Z"
   },
   {
    "duration": 2,
    "start_time": "2024-06-30T16:20:33.116Z"
   },
   {
    "duration": 3,
    "start_time": "2024-06-30T16:20:44.136Z"
   },
   {
    "duration": 3,
    "start_time": "2024-06-30T16:20:48.167Z"
   },
   {
    "duration": 391,
    "start_time": "2024-06-30T16:20:49.031Z"
   },
   {
    "duration": 12,
    "start_time": "2024-06-30T16:20:56.777Z"
   },
   {
    "duration": 9,
    "start_time": "2024-06-30T16:20:57.809Z"
   },
   {
    "duration": 4,
    "start_time": "2024-06-30T16:21:04.397Z"
   },
   {
    "duration": 3,
    "start_time": "2024-06-30T16:21:31.493Z"
   },
   {
    "duration": 16,
    "start_time": "2024-06-30T16:21:31.497Z"
   },
   {
    "duration": 23,
    "start_time": "2024-06-30T16:21:31.515Z"
   },
   {
    "duration": 288,
    "start_time": "2024-06-30T16:21:31.540Z"
   },
   {
    "duration": 45,
    "start_time": "2024-06-30T16:21:31.830Z"
   },
   {
    "duration": 205,
    "start_time": "2024-06-30T16:21:31.877Z"
   },
   {
    "duration": 9,
    "start_time": "2024-06-30T16:21:52.156Z"
   },
   {
    "duration": 4,
    "start_time": "2024-06-30T16:23:08.107Z"
   },
   {
    "duration": 11,
    "start_time": "2024-06-30T16:23:53.928Z"
   },
   {
    "duration": 4,
    "start_time": "2024-06-30T16:23:59.149Z"
   },
   {
    "duration": 8,
    "start_time": "2024-06-30T16:28:51.791Z"
   },
   {
    "duration": 69,
    "start_time": "2024-06-30T16:30:27.626Z"
   },
   {
    "duration": 7,
    "start_time": "2024-06-30T16:30:34.498Z"
   },
   {
    "duration": 6,
    "start_time": "2024-06-30T16:30:42.369Z"
   },
   {
    "duration": 6,
    "start_time": "2024-06-30T16:31:43.589Z"
   },
   {
    "duration": 6,
    "start_time": "2024-06-30T16:31:45.570Z"
   },
   {
    "duration": 3,
    "start_time": "2024-06-30T16:31:56.806Z"
   },
   {
    "duration": 6,
    "start_time": "2024-06-30T16:32:11.107Z"
   },
   {
    "duration": 6,
    "start_time": "2024-06-30T16:32:12.228Z"
   },
   {
    "duration": 6,
    "start_time": "2024-06-30T16:32:40.441Z"
   },
   {
    "duration": 6,
    "start_time": "2024-06-30T16:32:41.651Z"
   },
   {
    "duration": 5538,
    "start_time": "2024-06-30T16:34:40.161Z"
   },
   {
    "duration": 1296,
    "start_time": "2024-06-30T16:34:45.702Z"
   },
   {
    "duration": 2,
    "start_time": "2024-06-30T16:34:47.002Z"
   },
   {
    "duration": 77,
    "start_time": "2024-06-30T16:34:47.006Z"
   },
   {
    "duration": 23,
    "start_time": "2024-06-30T16:34:47.085Z"
   },
   {
    "duration": 4,
    "start_time": "2024-06-30T16:34:47.110Z"
   },
   {
    "duration": 18,
    "start_time": "2024-06-30T16:34:47.116Z"
   },
   {
    "duration": 4,
    "start_time": "2024-06-30T16:34:47.136Z"
   },
   {
    "duration": 375,
    "start_time": "2024-06-30T16:34:47.141Z"
   },
   {
    "duration": 288,
    "start_time": "2024-06-30T16:34:47.517Z"
   },
   {
    "duration": 388,
    "start_time": "2024-06-30T16:34:47.806Z"
   },
   {
    "duration": 193,
    "start_time": "2024-06-30T16:34:48.195Z"
   },
   {
    "duration": 5,
    "start_time": "2024-06-30T16:34:48.391Z"
   },
   {
    "duration": 284,
    "start_time": "2024-06-30T16:34:48.397Z"
   },
   {
    "duration": 272,
    "start_time": "2024-06-30T16:34:48.683Z"
   },
   {
    "duration": 270,
    "start_time": "2024-06-30T16:34:48.957Z"
   },
   {
    "duration": 3,
    "start_time": "2024-06-30T16:34:49.229Z"
   },
   {
    "duration": 117,
    "start_time": "2024-06-30T16:34:49.233Z"
   },
   {
    "duration": 3,
    "start_time": "2024-06-30T16:34:49.352Z"
   },
   {
    "duration": 15,
    "start_time": "2024-06-30T16:34:49.356Z"
   },
   {
    "duration": 18,
    "start_time": "2024-06-30T16:34:49.373Z"
   },
   {
    "duration": 17,
    "start_time": "2024-06-30T16:34:49.392Z"
   },
   {
    "duration": 10,
    "start_time": "2024-06-30T16:34:49.410Z"
   },
   {
    "duration": 19,
    "start_time": "2024-06-30T16:34:49.421Z"
   },
   {
    "duration": 5132,
    "start_time": "2024-06-30T16:34:49.441Z"
   },
   {
    "duration": 2,
    "start_time": "2024-06-30T16:34:54.575Z"
   },
   {
    "duration": 593,
    "start_time": "2024-06-30T16:34:54.578Z"
   },
   {
    "duration": 110562,
    "start_time": "2024-06-30T16:34:55.172Z"
   },
   {
    "duration": 85449,
    "start_time": "2024-06-30T16:36:45.735Z"
   },
   {
    "duration": 6,
    "start_time": "2024-06-30T16:38:11.185Z"
   },
   {
    "duration": 4,
    "start_time": "2024-06-30T16:38:11.271Z"
   },
   {
    "duration": 8,
    "start_time": "2024-06-30T16:38:11.277Z"
   },
   {
    "duration": 4,
    "start_time": "2024-06-30T16:38:11.286Z"
   },
   {
    "duration": 457,
    "start_time": "2024-06-30T16:38:11.292Z"
   },
   {
    "duration": 22,
    "start_time": "2024-06-30T16:38:11.751Z"
   },
   {
    "duration": 7,
    "start_time": "2024-06-30T16:38:11.775Z"
   },
   {
    "duration": 91,
    "start_time": "2024-06-30T16:38:11.783Z"
   },
   {
    "duration": 121,
    "start_time": "2024-06-30T16:38:11.875Z"
   },
   {
    "duration": 0,
    "start_time": "2024-06-30T16:38:11.998Z"
   },
   {
    "duration": 9025,
    "start_time": "2024-07-01T02:52:12.711Z"
   },
   {
    "duration": 1414,
    "start_time": "2024-07-01T02:52:21.737Z"
   },
   {
    "duration": 2,
    "start_time": "2024-07-01T02:52:23.153Z"
   },
   {
    "duration": 177,
    "start_time": "2024-07-01T02:52:23.157Z"
   },
   {
    "duration": 21,
    "start_time": "2024-07-01T02:52:23.335Z"
   },
   {
    "duration": 4,
    "start_time": "2024-07-01T02:52:23.357Z"
   },
   {
    "duration": 16,
    "start_time": "2024-07-01T02:52:23.362Z"
   },
   {
    "duration": 14,
    "start_time": "2024-07-01T02:52:23.380Z"
   },
   {
    "duration": 361,
    "start_time": "2024-07-01T02:52:23.395Z"
   },
   {
    "duration": 293,
    "start_time": "2024-07-01T02:52:23.758Z"
   },
   {
    "duration": 350,
    "start_time": "2024-07-01T02:52:24.052Z"
   },
   {
    "duration": 186,
    "start_time": "2024-07-01T02:52:24.404Z"
   },
   {
    "duration": 13,
    "start_time": "2024-07-01T02:52:24.592Z"
   },
   {
    "duration": 289,
    "start_time": "2024-07-01T02:52:24.607Z"
   },
   {
    "duration": 267,
    "start_time": "2024-07-01T02:52:24.897Z"
   },
   {
    "duration": 271,
    "start_time": "2024-07-01T02:52:25.165Z"
   },
   {
    "duration": 298,
    "start_time": "2024-07-01T02:52:25.437Z"
   },
   {
    "duration": 277,
    "start_time": "2024-07-01T02:52:40.601Z"
   },
   {
    "duration": 113,
    "start_time": "2024-07-01T03:29:22.725Z"
   },
   {
    "duration": 5,
    "start_time": "2024-07-01T03:29:40.719Z"
   },
   {
    "duration": 8,
    "start_time": "2024-07-01T03:29:46.466Z"
   },
   {
    "duration": 5293,
    "start_time": "2024-07-01T03:29:55.835Z"
   },
   {
    "duration": 6,
    "start_time": "2024-07-01T03:30:01.131Z"
   },
   {
    "duration": 148,
    "start_time": "2024-07-01T03:30:01.138Z"
   },
   {
    "duration": 147,
    "start_time": "2024-07-01T03:30:01.288Z"
   },
   {
    "duration": 20,
    "start_time": "2024-07-01T03:30:01.436Z"
   },
   {
    "duration": 126,
    "start_time": "2024-07-01T03:30:01.457Z"
   },
   {
    "duration": 48,
    "start_time": "2024-07-01T03:30:01.584Z"
   },
   {
    "duration": 22,
    "start_time": "2024-07-01T03:30:01.634Z"
   },
   {
    "duration": 385,
    "start_time": "2024-07-01T03:30:01.658Z"
   },
   {
    "duration": 384,
    "start_time": "2024-07-01T03:30:02.045Z"
   },
   {
    "duration": 274,
    "start_time": "2024-07-01T03:30:02.430Z"
   },
   {
    "duration": 178,
    "start_time": "2024-07-01T03:30:02.705Z"
   },
   {
    "duration": 5,
    "start_time": "2024-07-01T03:30:02.884Z"
   },
   {
    "duration": 274,
    "start_time": "2024-07-01T03:30:02.890Z"
   },
   {
    "duration": 273,
    "start_time": "2024-07-01T03:30:03.166Z"
   },
   {
    "duration": 272,
    "start_time": "2024-07-01T03:30:03.440Z"
   },
   {
    "duration": 275,
    "start_time": "2024-07-01T03:30:03.714Z"
   },
   {
    "duration": 3,
    "start_time": "2024-07-01T03:30:03.990Z"
   },
   {
    "duration": 106,
    "start_time": "2024-07-01T03:30:04.001Z"
   },
   {
    "duration": 3,
    "start_time": "2024-07-01T03:30:04.109Z"
   },
   {
    "duration": 14,
    "start_time": "2024-07-01T03:30:04.114Z"
   },
   {
    "duration": 20,
    "start_time": "2024-07-01T03:30:04.129Z"
   },
   {
    "duration": 12,
    "start_time": "2024-07-01T03:30:04.150Z"
   },
   {
    "duration": 30,
    "start_time": "2024-07-01T03:30:04.163Z"
   },
   {
    "duration": 29,
    "start_time": "2024-07-01T03:30:04.194Z"
   },
   {
    "duration": 3079,
    "start_time": "2024-07-01T03:30:04.224Z"
   },
   {
    "duration": 3,
    "start_time": "2024-07-01T03:30:07.304Z"
   },
   {
    "duration": 18,
    "start_time": "2024-07-01T03:30:11.182Z"
   },
   {
    "duration": 182,
    "start_time": "2024-07-01T03:30:30.121Z"
   },
   {
    "duration": 156,
    "start_time": "2024-07-01T03:31:44.747Z"
   },
   {
    "duration": 157,
    "start_time": "2024-07-01T03:31:51.446Z"
   },
   {
    "duration": 80,
    "start_time": "2024-07-01T03:33:05.527Z"
   },
   {
    "duration": 9,
    "start_time": "2024-07-01T03:34:05.640Z"
   },
   {
    "duration": 8,
    "start_time": "2024-07-01T03:34:23.545Z"
   },
   {
    "duration": 177,
    "start_time": "2024-07-01T03:35:39.726Z"
   },
   {
    "duration": 14,
    "start_time": "2024-07-01T03:47:26.301Z"
   },
   {
    "duration": 21,
    "start_time": "2024-07-01T03:47:54.775Z"
   },
   {
    "duration": 18,
    "start_time": "2024-07-01T03:48:43.755Z"
   },
   {
    "duration": 3,
    "start_time": "2024-07-01T03:50:19.381Z"
   },
   {
    "duration": 3,
    "start_time": "2024-07-01T03:51:01.948Z"
   },
   {
    "duration": 78,
    "start_time": "2024-07-01T03:51:22.281Z"
   },
   {
    "duration": 27,
    "start_time": "2024-07-01T03:51:56.119Z"
   },
   {
    "duration": 2,
    "start_time": "2024-07-01T04:09:10.645Z"
   },
   {
    "duration": 3,
    "start_time": "2024-07-01T04:09:11.312Z"
   },
   {
    "duration": 9,
    "start_time": "2024-07-01T04:10:32.332Z"
   },
   {
    "duration": 8,
    "start_time": "2024-07-01T04:10:35.168Z"
   },
   {
    "duration": 3859,
    "start_time": "2024-07-01T04:10:35.854Z"
   },
   {
    "duration": 5363,
    "start_time": "2024-07-01T04:13:10.403Z"
   },
   {
    "duration": 1275,
    "start_time": "2024-07-01T04:13:15.769Z"
   },
   {
    "duration": 3,
    "start_time": "2024-07-01T04:13:17.046Z"
   },
   {
    "duration": 84,
    "start_time": "2024-07-01T04:13:17.050Z"
   },
   {
    "duration": 23,
    "start_time": "2024-07-01T04:13:17.136Z"
   },
   {
    "duration": 4,
    "start_time": "2024-07-01T04:13:17.160Z"
   },
   {
    "duration": 35,
    "start_time": "2024-07-01T04:13:17.165Z"
   },
   {
    "duration": 17,
    "start_time": "2024-07-01T04:13:17.202Z"
   },
   {
    "duration": 436,
    "start_time": "2024-07-01T04:13:17.221Z"
   },
   {
    "duration": 303,
    "start_time": "2024-07-01T04:13:17.659Z"
   },
   {
    "duration": 328,
    "start_time": "2024-07-01T04:13:17.964Z"
   },
   {
    "duration": 183,
    "start_time": "2024-07-01T04:13:18.293Z"
   },
   {
    "duration": 6,
    "start_time": "2024-07-01T04:13:18.478Z"
   },
   {
    "duration": 268,
    "start_time": "2024-07-01T04:13:18.485Z"
   },
   {
    "duration": 250,
    "start_time": "2024-07-01T04:13:18.754Z"
   },
   {
    "duration": 283,
    "start_time": "2024-07-01T04:13:19.005Z"
   },
   {
    "duration": 267,
    "start_time": "2024-07-01T04:13:19.289Z"
   },
   {
    "duration": 3,
    "start_time": "2024-07-01T04:13:19.557Z"
   },
   {
    "duration": 99,
    "start_time": "2024-07-01T04:13:19.562Z"
   },
   {
    "duration": 3,
    "start_time": "2024-07-01T04:13:19.662Z"
   },
   {
    "duration": 8,
    "start_time": "2024-07-01T04:13:19.666Z"
   },
   {
    "duration": 5,
    "start_time": "2024-07-01T04:13:19.675Z"
   },
   {
    "duration": 6,
    "start_time": "2024-07-01T04:13:19.681Z"
   },
   {
    "duration": 14,
    "start_time": "2024-07-01T04:13:19.688Z"
   },
   {
    "duration": 80,
    "start_time": "2024-07-01T04:13:19.703Z"
   },
   {
    "duration": 6029,
    "start_time": "2024-07-01T04:13:19.784Z"
   },
   {
    "duration": 3,
    "start_time": "2024-07-01T04:13:25.814Z"
   },
   {
    "duration": 7,
    "start_time": "2024-07-01T04:13:25.820Z"
   },
   {
    "duration": 3573,
    "start_time": "2024-07-01T04:13:25.828Z"
   },
   {
    "duration": 533,
    "start_time": "2024-07-01T04:13:29.402Z"
   },
   {
    "duration": 101854,
    "start_time": "2024-07-01T04:13:29.936Z"
   },
   {
    "duration": 9933,
    "start_time": "2024-08-20T07:39:12.521Z"
   },
   {
    "duration": 1622,
    "start_time": "2024-08-20T07:39:22.457Z"
   },
   {
    "duration": 3,
    "start_time": "2024-08-20T07:39:24.081Z"
   },
   {
    "duration": 170,
    "start_time": "2024-08-20T07:39:24.087Z"
   },
   {
    "duration": 27,
    "start_time": "2024-08-20T07:39:24.258Z"
   },
   {
    "duration": 4,
    "start_time": "2024-08-20T07:39:24.287Z"
   },
   {
    "duration": 17,
    "start_time": "2024-08-20T07:39:24.292Z"
   },
   {
    "duration": 13,
    "start_time": "2024-08-20T07:39:24.311Z"
   },
   {
    "duration": 428,
    "start_time": "2024-08-20T07:39:24.325Z"
   },
   {
    "duration": 340,
    "start_time": "2024-08-20T07:39:24.755Z"
   },
   {
    "duration": 442,
    "start_time": "2024-08-20T07:39:25.097Z"
   },
   {
    "duration": 218,
    "start_time": "2024-08-20T07:39:25.546Z"
   },
   {
    "duration": 5,
    "start_time": "2024-08-20T07:39:25.766Z"
   },
   {
    "duration": 370,
    "start_time": "2024-08-20T07:39:25.773Z"
   },
   {
    "duration": 323,
    "start_time": "2024-08-20T07:39:26.146Z"
   },
   {
    "duration": 362,
    "start_time": "2024-08-20T07:39:26.470Z"
   },
   {
    "duration": 369,
    "start_time": "2024-08-20T07:39:26.834Z"
   },
   {
    "duration": 4,
    "start_time": "2024-08-20T07:39:27.205Z"
   },
   {
    "duration": 157,
    "start_time": "2024-08-20T07:39:27.211Z"
   },
   {
    "duration": 4,
    "start_time": "2024-08-20T07:39:27.370Z"
   },
   {
    "duration": 37,
    "start_time": "2024-08-20T07:39:27.375Z"
   },
   {
    "duration": 15,
    "start_time": "2024-08-20T07:39:27.414Z"
   },
   {
    "duration": 6,
    "start_time": "2024-08-20T07:39:27.431Z"
   },
   {
    "duration": 6,
    "start_time": "2024-08-20T07:39:27.438Z"
   },
   {
    "duration": 12,
    "start_time": "2024-08-20T07:39:27.445Z"
   },
   {
    "duration": 5089,
    "start_time": "2024-08-20T07:39:27.458Z"
   },
   {
    "duration": 3,
    "start_time": "2024-08-20T07:39:32.549Z"
   },
   {
    "duration": 31,
    "start_time": "2024-08-20T07:39:32.556Z"
   },
   {
    "duration": 3871,
    "start_time": "2024-08-20T07:39:32.589Z"
   },
   {
    "duration": 747,
    "start_time": "2024-08-20T07:39:36.546Z"
   },
   {
    "duration": 116401,
    "start_time": "2024-08-20T07:39:37.295Z"
   },
   {
    "duration": 213763,
    "start_time": "2024-08-20T07:41:33.698Z"
   },
   {
    "duration": 6,
    "start_time": "2024-08-20T07:45:07.463Z"
   },
   {
    "duration": 7,
    "start_time": "2024-08-20T07:45:07.471Z"
   },
   {
    "duration": 66,
    "start_time": "2024-08-20T07:45:07.480Z"
   },
   {
    "duration": 29,
    "start_time": "2024-08-20T07:45:07.548Z"
   },
   {
    "duration": 421,
    "start_time": "2024-08-20T07:45:07.579Z"
   },
   {
    "duration": 46,
    "start_time": "2024-08-20T07:45:08.002Z"
   },
   {
    "duration": 23,
    "start_time": "2024-08-20T07:45:08.050Z"
   },
   {
    "duration": 10,
    "start_time": "2024-08-20T07:45:08.075Z"
   },
   {
    "duration": 176,
    "start_time": "2024-08-20T07:45:08.087Z"
   },
   {
    "duration": 0,
    "start_time": "2024-08-20T07:45:08.265Z"
   }
  ],
  "kernelspec": {
   "display_name": "Python 3 (ipykernel)",
   "language": "python",
   "name": "python3"
  },
  "language_info": {
   "codemirror_mode": {
    "name": "ipython",
    "version": 3
   },
   "file_extension": ".py",
   "mimetype": "text/x-python",
   "name": "python",
   "nbconvert_exporter": "python",
   "pygments_lexer": "ipython3",
   "version": "3.9.5"
  },
  "toc": {
   "base_numbering": 1,
   "nav_menu": {},
   "number_sections": true,
   "sideBar": true,
   "skip_h1_title": true,
   "title_cell": "Table of Contents",
   "title_sidebar": "Contents",
   "toc_cell": false,
   "toc_position": {
    "height": "calc(100% - 180px)",
    "left": "10px",
    "top": "150px",
    "width": "279.273px"
   },
   "toc_section_display": true,
   "toc_window_display": false
  }
 },
 "nbformat": 4,
 "nbformat_minor": 5
}
